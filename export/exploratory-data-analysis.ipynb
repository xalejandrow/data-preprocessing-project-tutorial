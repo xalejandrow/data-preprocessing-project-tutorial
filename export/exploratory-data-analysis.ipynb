{
  "cells": [
    {
      "cell_type": "markdown",
      "metadata": {
        "id": "view-in-github",
        "colab_type": "text"
      },
      "source": [
        "<a href=\"https://colab.research.google.com/github/xalejandrow/data-preprocessing-project-tutorial/blob/main/export/exploratory-data-analysis.ipynb\" target=\"_parent\"><img src=\"https://colab.research.google.com/assets/colab-badge.svg\" alt=\"Open In Colab\"/></a>"
      ]
    },
    {
      "cell_type": "markdown",
      "id": "753ff4c3",
      "metadata": {
        "id": "753ff4c3"
      },
      "source": [
        "# Exploratory Data Analysis"
      ]
    },
    {
      "cell_type": "markdown",
      "id": "b74b5792",
      "metadata": {
        "id": "b74b5792"
      },
      "source": [
        "Exploratory data analysis is the first step towards solving any data science or machine learning problem. It refers to the critical process of performing initial investigations on the data we have available and getting familiar with it. EDA makes a thorough examination on our dataset to find trends, patterns, and relationships between features within the data with the help of graphs and plots using libraries like Matplotlib and Seaborn. We will also be using the Pandas library. Pandas makes importing, analysing and visualizing much easier.\n",
        "In this section, we will use the Titanic dataset, a popular introductory dataset, to learn the step by step exploratory data analysis process. The purpose is to bring the reader in the position of going on with its own ideas, and by the end of this course searching for a dataset with a subject of its own interest to explore."
      ]
    },
    {
      "cell_type": "markdown",
      "id": "f61bbfe7",
      "metadata": {
        "id": "f61bbfe7"
      },
      "source": [
        "### Understanding the problem statement"
      ]
    },
    {
      "cell_type": "markdown",
      "id": "83724bf5",
      "metadata": {
        "id": "83724bf5"
      },
      "source": [
        "Before we begin to solve the problem, we need to make sure we understand the problem statement very well. \n",
        "\n",
        "Problem definition: \n",
        "\n",
        "The sinking of the Titanic resulted in the death of 1502 out of 2224 passengers and crew. While there was some element of luck involved in surviving, it seems some groups of people were more likely to survive than others. Apparently there were some patterns in the people who died and the people who survived. The problem here is that we are given certain data with specific characteristics of each passenger and the data is already labeled which let us know if the passenger lived or died. We have also been given a test dataset with more Titanic passengers and their characteristics but this dataset is not labeled, so we don't know who lived and who died. \n",
        "\n",
        "We need to build a predictive model that answers the question: “what sorts of people were more likely to survive?” using passenger data (ie name, age, gender, socio-economic class, etc). To be able to predict which passengers were more likely to survive we will use a couple of algorithms to train the first dataset and when we decide which one is the best, we will use it to predict what passengers in the unlabeled dataset survived.\n",
        "\n",
        "For this specific section, we will focus on the Titanic exploratory data analysis only.\n",
        "\n",
        "\n",
        "-If you want to read the complete problem statement and data description, it can be found here:\n",
        "\n",
        "https://www.kaggle.com/competitions/titanic/\n",
        "\n",
        "-Please download the data directly from the following link:\n",
        "\n",
        "https://github.com/4GeeksAcademy/machine-learning-content/tree/master/05-3d-data/assets"
      ]
    },
    {
      "cell_type": "markdown",
      "id": "7cd8ca81",
      "metadata": {
        "id": "7cd8ca81"
      },
      "source": [
        "### Importing libraries and reading the dataset"
      ]
    },
    {
      "cell_type": "markdown",
      "id": "cbd17715",
      "metadata": {
        "id": "cbd17715"
      },
      "source": [
        "Our next step is to read in the data and do some preliminary exploration. This will help us figure out how we want to approach creating groups and finding patterns. In order to do that we need to import some necessary libraries (for this example). In case any of them does not appear, make sure to install it."
      ]
    },
    {
      "cell_type": "code",
      "execution_count": null,
      "id": "23d16408",
      "metadata": {
        "id": "23d16408"
      },
      "outputs": [],
      "source": [
        "#Importing necessary libraries\n",
        "\n",
        "import pandas as pd \n",
        "import numpy as np \n",
        "import matplotlib.pyplot as plt  \n",
        "import seaborn as sns"
      ]
    },
    {
      "cell_type": "markdown",
      "id": "9ef81b61",
      "metadata": {
        "id": "9ef81b61"
      },
      "source": [
        "The data is stored as a comma-separated values, or csv file, where each row is separated by a new line, and each column by a comma (,). In order to read in the data, we’ll need to use the pandas.read_csv function. This function will take in a csv file and return a DataFrame."
      ]
    },
    {
      "cell_type": "code",
      "execution_count": null,
      "id": "7b4fde5c",
      "metadata": {
        "id": "7b4fde5c"
      },
      "outputs": [],
      "source": [
        "#Reading the train and test data and assign to a variable\n",
        "\n",
        "train_data = pd.read_csv('assets/titanic_train.csv')\n",
        "test_data = pd.read_csv('assets/titanic_test.csv')"
      ]
    },
    {
      "cell_type": "markdown",
      "id": "fde28ea7",
      "metadata": {
        "id": "fde28ea7"
      },
      "source": [
        "### Finding dimensions, shape, size of the dataframe using Pandas"
      ]
    },
    {
      "cell_type": "markdown",
      "id": "537b1fcc",
      "metadata": {
        "id": "537b1fcc"
      },
      "source": [
        "After reading the dataframes available, we will analyze their shape, size and the kind of data available.\n",
        "We will do this for both train and test dataset. It is important to also write observations at the end of each step. \n",
        "In this initial data exploration we will use:\n",
        "\n",
        "-data.head() returns the first 5 rows of the dataframe\n",
        "\n",
        "-data.shape displays the number of rows and number of columns of the dataframe\n",
        "\n",
        "-data.info() prints a concise summary with the index dtype, column dtypes, non-null values and memory usage."
      ]
    },
    {
      "cell_type": "code",
      "execution_count": null,
      "id": "f3e58591",
      "metadata": {
        "id": "f3e58591",
        "outputId": "c499c578-637a-4c92-c138-17c2d617bfc8"
      },
      "outputs": [
        {
          "data": {
            "text/plain": [
              "(891, 12)"
            ]
          },
          "execution_count": 3,
          "metadata": {},
          "output_type": "execute_result"
        }
      ],
      "source": [
        "#Let's see how many rows and columns does my train_data has.\n",
        "train_data.shape"
      ]
    },
    {
      "cell_type": "code",
      "execution_count": null,
      "id": "b676e1c2",
      "metadata": {
        "id": "b676e1c2",
        "outputId": "969a8334-ae40-4a42-9cef-25b00e337eb7"
      },
      "outputs": [
        {
          "data": {
            "text/html": [
              "<div>\n",
              "<style scoped>\n",
              "    .dataframe tbody tr th:only-of-type {\n",
              "        vertical-align: middle;\n",
              "    }\n",
              "\n",
              "    .dataframe tbody tr th {\n",
              "        vertical-align: top;\n",
              "    }\n",
              "\n",
              "    .dataframe thead th {\n",
              "        text-align: right;\n",
              "    }\n",
              "</style>\n",
              "<table border=\"1\" class=\"dataframe\">\n",
              "  <thead>\n",
              "    <tr style=\"text-align: right;\">\n",
              "      <th></th>\n",
              "      <th>PassengerId</th>\n",
              "      <th>Survived</th>\n",
              "      <th>Pclass</th>\n",
              "      <th>Name</th>\n",
              "      <th>Sex</th>\n",
              "      <th>Age</th>\n",
              "      <th>SibSp</th>\n",
              "      <th>Parch</th>\n",
              "      <th>Ticket</th>\n",
              "      <th>Fare</th>\n",
              "      <th>Cabin</th>\n",
              "      <th>Embarked</th>\n",
              "    </tr>\n",
              "  </thead>\n",
              "  <tbody>\n",
              "    <tr>\n",
              "      <th>0</th>\n",
              "      <td>1</td>\n",
              "      <td>0</td>\n",
              "      <td>3</td>\n",
              "      <td>Braund, Mr. Owen Harris</td>\n",
              "      <td>male</td>\n",
              "      <td>22.0</td>\n",
              "      <td>1</td>\n",
              "      <td>0</td>\n",
              "      <td>A/5 21171</td>\n",
              "      <td>7.2500</td>\n",
              "      <td>NaN</td>\n",
              "      <td>S</td>\n",
              "    </tr>\n",
              "    <tr>\n",
              "      <th>1</th>\n",
              "      <td>2</td>\n",
              "      <td>1</td>\n",
              "      <td>1</td>\n",
              "      <td>Cumings, Mrs. John Bradley (Florence Briggs Th...</td>\n",
              "      <td>female</td>\n",
              "      <td>38.0</td>\n",
              "      <td>1</td>\n",
              "      <td>0</td>\n",
              "      <td>PC 17599</td>\n",
              "      <td>71.2833</td>\n",
              "      <td>C85</td>\n",
              "      <td>C</td>\n",
              "    </tr>\n",
              "    <tr>\n",
              "      <th>2</th>\n",
              "      <td>3</td>\n",
              "      <td>1</td>\n",
              "      <td>3</td>\n",
              "      <td>Heikkinen, Miss. Laina</td>\n",
              "      <td>female</td>\n",
              "      <td>26.0</td>\n",
              "      <td>0</td>\n",
              "      <td>0</td>\n",
              "      <td>STON/O2. 3101282</td>\n",
              "      <td>7.9250</td>\n",
              "      <td>NaN</td>\n",
              "      <td>S</td>\n",
              "    </tr>\n",
              "    <tr>\n",
              "      <th>3</th>\n",
              "      <td>4</td>\n",
              "      <td>1</td>\n",
              "      <td>1</td>\n",
              "      <td>Futrelle, Mrs. Jacques Heath (Lily May Peel)</td>\n",
              "      <td>female</td>\n",
              "      <td>35.0</td>\n",
              "      <td>1</td>\n",
              "      <td>0</td>\n",
              "      <td>113803</td>\n",
              "      <td>53.1000</td>\n",
              "      <td>C123</td>\n",
              "      <td>S</td>\n",
              "    </tr>\n",
              "    <tr>\n",
              "      <th>4</th>\n",
              "      <td>5</td>\n",
              "      <td>0</td>\n",
              "      <td>3</td>\n",
              "      <td>Allen, Mr. William Henry</td>\n",
              "      <td>male</td>\n",
              "      <td>35.0</td>\n",
              "      <td>0</td>\n",
              "      <td>0</td>\n",
              "      <td>373450</td>\n",
              "      <td>8.0500</td>\n",
              "      <td>NaN</td>\n",
              "      <td>S</td>\n",
              "    </tr>\n",
              "  </tbody>\n",
              "</table>\n",
              "</div>"
            ],
            "text/plain": [
              "   PassengerId  Survived  Pclass  \\\n",
              "0            1         0       3   \n",
              "1            2         1       1   \n",
              "2            3         1       3   \n",
              "3            4         1       1   \n",
              "4            5         0       3   \n",
              "\n",
              "                                                Name     Sex   Age  SibSp  \\\n",
              "0                            Braund, Mr. Owen Harris    male  22.0      1   \n",
              "1  Cumings, Mrs. John Bradley (Florence Briggs Th...  female  38.0      1   \n",
              "2                             Heikkinen, Miss. Laina  female  26.0      0   \n",
              "3       Futrelle, Mrs. Jacques Heath (Lily May Peel)  female  35.0      1   \n",
              "4                           Allen, Mr. William Henry    male  35.0      0   \n",
              "\n",
              "   Parch            Ticket     Fare Cabin Embarked  \n",
              "0      0         A/5 21171   7.2500   NaN        S  \n",
              "1      0          PC 17599  71.2833   C85        C  \n",
              "2      0  STON/O2. 3101282   7.9250   NaN        S  \n",
              "3      0            113803  53.1000  C123        S  \n",
              "4      0            373450   8.0500   NaN        S  "
            ]
          },
          "execution_count": 4,
          "metadata": {},
          "output_type": "execute_result"
        }
      ],
      "source": [
        "#Looking at the first rows of our train_data. If we want to see more than 5 rows, we just have to add the number of rows as parameter.\n",
        "train_data.head()"
      ]
    },
    {
      "cell_type": "code",
      "execution_count": null,
      "id": "92b6d852",
      "metadata": {
        "id": "92b6d852",
        "outputId": "fde16418-3f7c-4bda-87a5-e7225b5ab94c"
      },
      "outputs": [
        {
          "name": "stdout",
          "output_type": "stream",
          "text": [
            "<class 'pandas.core.frame.DataFrame'>\n",
            "RangeIndex: 891 entries, 0 to 890\n",
            "Data columns (total 12 columns):\n",
            " #   Column       Non-Null Count  Dtype  \n",
            "---  ------       --------------  -----  \n",
            " 0   PassengerId  891 non-null    int64  \n",
            " 1   Survived     891 non-null    int64  \n",
            " 2   Pclass       891 non-null    int64  \n",
            " 3   Name         891 non-null    object \n",
            " 4   Sex          891 non-null    object \n",
            " 5   Age          714 non-null    float64\n",
            " 6   SibSp        891 non-null    int64  \n",
            " 7   Parch        891 non-null    int64  \n",
            " 8   Ticket       891 non-null    object \n",
            " 9   Fare         891 non-null    float64\n",
            " 10  Cabin        204 non-null    object \n",
            " 11  Embarked     889 non-null    object \n",
            "dtypes: float64(2), int64(5), object(5)\n",
            "memory usage: 83.7+ KB\n"
          ]
        }
      ],
      "source": [
        "#Let's look at some information aboyt data types and null values.\n",
        "train_data.info()"
      ]
    },
    {
      "cell_type": "markdown",
      "id": "b31299bb",
      "metadata": {
        "id": "b31299bb"
      },
      "source": [
        "Observations: \n",
        "\n",
        "-We can see that our train_data has 891 rows and 12 columns.\n",
        "\n",
        "-Our data has 7 numerical features and 5 categorical features.\n",
        "\n",
        "-Feature 'Age' has 714 non-null values from a total of 891 rows, which means that our 'Age' column has 177 null values.\n",
        "The same happens with our 'Cabin' feature having 687 null values, and 'Embarked' feature with 2 null values.\n",
        "\n",
        "Now, we will do the same analysis for our test_data:"
      ]
    },
    {
      "cell_type": "code",
      "execution_count": null,
      "id": "2e3405c2",
      "metadata": {
        "id": "2e3405c2",
        "outputId": "95abcec7-4296-412c-bc9a-53b7f9de39ae"
      },
      "outputs": [
        {
          "data": {
            "text/plain": [
              "(418, 11)"
            ]
          },
          "execution_count": 6,
          "metadata": {},
          "output_type": "execute_result"
        }
      ],
      "source": [
        "#Let's see how many rows and columns does my test_data has.\n",
        "test_data.shape"
      ]
    },
    {
      "cell_type": "code",
      "execution_count": null,
      "id": "da0fbd3c",
      "metadata": {
        "id": "da0fbd3c",
        "outputId": "f09f47ab-2bac-4f9d-c6ea-3d0548825916"
      },
      "outputs": [
        {
          "data": {
            "text/html": [
              "<div>\n",
              "<style scoped>\n",
              "    .dataframe tbody tr th:only-of-type {\n",
              "        vertical-align: middle;\n",
              "    }\n",
              "\n",
              "    .dataframe tbody tr th {\n",
              "        vertical-align: top;\n",
              "    }\n",
              "\n",
              "    .dataframe thead th {\n",
              "        text-align: right;\n",
              "    }\n",
              "</style>\n",
              "<table border=\"1\" class=\"dataframe\">\n",
              "  <thead>\n",
              "    <tr style=\"text-align: right;\">\n",
              "      <th></th>\n",
              "      <th>PassengerId</th>\n",
              "      <th>Pclass</th>\n",
              "      <th>Name</th>\n",
              "      <th>Sex</th>\n",
              "      <th>Age</th>\n",
              "      <th>SibSp</th>\n",
              "      <th>Parch</th>\n",
              "      <th>Ticket</th>\n",
              "      <th>Fare</th>\n",
              "      <th>Cabin</th>\n",
              "      <th>Embarked</th>\n",
              "    </tr>\n",
              "  </thead>\n",
              "  <tbody>\n",
              "    <tr>\n",
              "      <th>0</th>\n",
              "      <td>892</td>\n",
              "      <td>3</td>\n",
              "      <td>Kelly, Mr. James</td>\n",
              "      <td>male</td>\n",
              "      <td>34.5</td>\n",
              "      <td>0</td>\n",
              "      <td>0</td>\n",
              "      <td>330911</td>\n",
              "      <td>7.8292</td>\n",
              "      <td>NaN</td>\n",
              "      <td>Q</td>\n",
              "    </tr>\n",
              "    <tr>\n",
              "      <th>1</th>\n",
              "      <td>893</td>\n",
              "      <td>3</td>\n",
              "      <td>Wilkes, Mrs. James (Ellen Needs)</td>\n",
              "      <td>female</td>\n",
              "      <td>47.0</td>\n",
              "      <td>1</td>\n",
              "      <td>0</td>\n",
              "      <td>363272</td>\n",
              "      <td>7.0000</td>\n",
              "      <td>NaN</td>\n",
              "      <td>S</td>\n",
              "    </tr>\n",
              "    <tr>\n",
              "      <th>2</th>\n",
              "      <td>894</td>\n",
              "      <td>2</td>\n",
              "      <td>Myles, Mr. Thomas Francis</td>\n",
              "      <td>male</td>\n",
              "      <td>62.0</td>\n",
              "      <td>0</td>\n",
              "      <td>0</td>\n",
              "      <td>240276</td>\n",
              "      <td>9.6875</td>\n",
              "      <td>NaN</td>\n",
              "      <td>Q</td>\n",
              "    </tr>\n",
              "  </tbody>\n",
              "</table>\n",
              "</div>"
            ],
            "text/plain": [
              "   PassengerId  Pclass                              Name     Sex   Age  SibSp  \\\n",
              "0          892       3                  Kelly, Mr. James    male  34.5      0   \n",
              "1          893       3  Wilkes, Mrs. James (Ellen Needs)  female  47.0      1   \n",
              "2          894       2         Myles, Mr. Thomas Francis    male  62.0      0   \n",
              "\n",
              "   Parch  Ticket    Fare Cabin Embarked  \n",
              "0      0  330911  7.8292   NaN        Q  \n",
              "1      0  363272  7.0000   NaN        S  \n",
              "2      0  240276  9.6875   NaN        Q  "
            ]
          },
          "execution_count": 7,
          "metadata": {},
          "output_type": "execute_result"
        }
      ],
      "source": [
        "#Let's look at the first 3 rows of our test_data\n",
        "test_data.head(3)"
      ]
    },
    {
      "cell_type": "code",
      "execution_count": null,
      "id": "8b22f25b",
      "metadata": {
        "id": "8b22f25b",
        "outputId": "90edce9f-e98d-47e7-8257-f10aaddc0b63"
      },
      "outputs": [
        {
          "name": "stdout",
          "output_type": "stream",
          "text": [
            "<class 'pandas.core.frame.DataFrame'>\n",
            "RangeIndex: 418 entries, 0 to 417\n",
            "Data columns (total 11 columns):\n",
            " #   Column       Non-Null Count  Dtype  \n",
            "---  ------       --------------  -----  \n",
            " 0   PassengerId  418 non-null    int64  \n",
            " 1   Pclass       418 non-null    int64  \n",
            " 2   Name         418 non-null    object \n",
            " 3   Sex          418 non-null    object \n",
            " 4   Age          332 non-null    float64\n",
            " 5   SibSp        418 non-null    int64  \n",
            " 6   Parch        418 non-null    int64  \n",
            " 7   Ticket       418 non-null    object \n",
            " 8   Fare         417 non-null    float64\n",
            " 9   Cabin        91 non-null     object \n",
            " 10  Embarked     418 non-null    object \n",
            "dtypes: float64(2), int64(4), object(5)\n",
            "memory usage: 36.0+ KB\n"
          ]
        }
      ],
      "source": [
        "#Let's see the data types and which features have null values in our test_data\n",
        "test_data.info()"
      ]
    },
    {
      "cell_type": "markdown",
      "id": "762bd415",
      "metadata": {
        "id": "762bd415"
      },
      "source": [
        "Observations:\n",
        "\n",
        "-We can see that our test_data has 418 rows and 11 columns. There is one column less than our train_data because this new dataset is not labeled so we don't have the column that indicates whether the passenger died or survived.\n",
        "\n",
        "-Our test_data has the same data types as our train_data for each feature.\n",
        "\n",
        "-This time the 'Age' feature has 86 null values, and our 'Cabin' feature has 327 null values from the 418 total number of rows."
      ]
    },
    {
      "cell_type": "markdown",
      "id": "f95de7d3",
      "metadata": {
        "id": "f95de7d3"
      },
      "source": [
        "### Exploring relevant data columns\n",
        "\n",
        "Now we need to find some insights from the dataset to see if there is any kind of hidden pattern or relationship between columns.\n",
        "We will start with the 'Survived' column which seems to be our target variable as it is not given to us in the test dataset.\n",
        "\n",
        "**Target variable**"
      ]
    },
    {
      "cell_type": "code",
      "execution_count": null,
      "id": "4613a802",
      "metadata": {
        "id": "4613a802",
        "outputId": "46ad9364-65a0-4215-c4e9-adf8b8f8d149"
      },
      "outputs": [
        {
          "data": {
            "image/png": "[encoded data removed]",
            "text/plain": [
              "<Figure size 432x288 with 1 Axes>"
            ]
          },
          "metadata": {
            "needs_background": "light"
          },
          "output_type": "display_data"
        }
      ],
      "source": [
        "#Let's first visualize the distribution of our target variable.\n",
        "\n",
        "sns.countplot(x=train_data['Survived'])\n",
        "plt.title('Distribution of passenger survival status')\n",
        "plt.show()"
      ]
    },
    {
      "cell_type": "code",
      "execution_count": null,
      "id": "df504f6a",
      "metadata": {
        "id": "df504f6a",
        "outputId": "4a5be862-d942-4113-8f85-8bd08edf9460"
      },
      "outputs": [
        {
          "data": {
            "text/plain": [
              "0    549\n",
              "1    342\n",
              "Name: Survived, dtype: int64"
            ]
          },
          "execution_count": 10,
          "metadata": {},
          "output_type": "execute_result"
        }
      ],
      "source": [
        "train_data['Survived'].value_counts()"
      ]
    },
    {
      "cell_type": "markdown",
      "id": "73ee0a01",
      "metadata": {
        "id": "73ee0a01"
      },
      "source": [
        "Observations: As our target variable is supposed to classify passengers in 1 or 0, whether they survive or not, we used a countplot to see if the data is balanced. We also used the method value_counts() to see exactly how many people survived(1) and how many did not survived(0) in our train_data. It is balanced and we know for a fact that the sinking ok Titanic resulted in the death of most of its passengers."
      ]
    },
    {
      "cell_type": "markdown",
      "id": "fc3bef23",
      "metadata": {
        "id": "fc3bef23"
      },
      "source": [
        "**Using histograms to visualize all features**"
      ]
    },
    {
      "cell_type": "code",
      "execution_count": null,
      "id": "2ea4bfd1",
      "metadata": {
        "id": "2ea4bfd1",
        "outputId": "4915c729-4ea5-4248-facf-f9ba588c7607"
      },
      "outputs": [
        {
          "data": {
            "image/png": "[encoded data removed]",
            "text/plain": [
              "<Figure size 648x504 with 9 Axes>"
            ]
          },
          "metadata": {
            "needs_background": "light"
          },
          "output_type": "display_data"
        }
      ],
      "source": [
        "train_data.hist(bins=10,figsize=(9,7),grid=False);"
      ]
    },
    {
      "cell_type": "markdown",
      "id": "6248b801",
      "metadata": {
        "id": "6248b801"
      },
      "source": [
        "**Countplot for categorical variables**"
      ]
    },
    {
      "cell_type": "code",
      "execution_count": null,
      "id": "2d7bfba6",
      "metadata": {
        "id": "2d7bfba6"
      },
      "outputs": [],
      "source": [
        "#Let's check the categories in each of our object type features\n",
        "\n",
        "def countplot_features(feature):\n",
        "    plot=sns.countplot(x=feature,data=train_data)\n",
        "    plt.show()\n",
        "\n",
        "def countplot_targetvsfeature(feature,y):\n",
        "    fig = plt.figure(figsize=(15,10))\n",
        "    plot=sns.countplot(x=feature,data=train_data,hue=y)\n",
        "    plt.show()    "
      ]
    },
    {
      "cell_type": "code",
      "execution_count": null,
      "id": "18540988",
      "metadata": {
        "id": "18540988",
        "outputId": "d11db3bd-b996-4b72-a321-69ab1a411e95"
      },
      "outputs": [
        {
          "data": {
            "image/png": "[encoded data removed]",
            "text/plain": [
              "<Figure size 432x288 with 1 Axes>"
            ]
          },
          "metadata": {
            "needs_background": "light"
          },
          "output_type": "display_data"
        }
      ],
      "source": [
        "countplot_features('Sex')"
      ]
    },
    {
      "cell_type": "code",
      "execution_count": null,
      "id": "8331148c",
      "metadata": {
        "id": "8331148c",
        "outputId": "40caec60-7a8a-4164-f19f-689fb8b8f7d9"
      },
      "outputs": [
        {
          "data": {
            "image/png": "[encoded data removed]",
            "text/plain": [
              "<Figure size 1080x720 with 1 Axes>"
            ]
          },
          "metadata": {
            "needs_background": "light"
          },
          "output_type": "display_data"
        }
      ],
      "source": [
        "countplot_targetvsfeature('Sex','Survived')\n"
      ]
    },
    {
      "cell_type": "markdown",
      "id": "d268d3c0",
      "metadata": {
        "id": "d268d3c0"
      },
      "source": [
        "Observations: \n",
        "\n",
        "Most of our data passengers were male, but from male, most of them did not survive. On the other side, even though there were less female passengers, most of them survived."
      ]
    },
    {
      "cell_type": "code",
      "execution_count": null,
      "id": "b86176e8",
      "metadata": {
        "id": "b86176e8",
        "outputId": "68b81020-867e-40ed-c7f6-6419b0586b9b"
      },
      "outputs": [
        {
          "data": {
            "image/png": "[encoded data removed]",
            "text/plain": [
              "<Figure size 432x288 with 1 Axes>"
            ]
          },
          "metadata": {
            "needs_background": "light"
          },
          "output_type": "display_data"
        }
      ],
      "source": [
        "countplot_features('Embarked')"
      ]
    },
    {
      "cell_type": "code",
      "execution_count": null,
      "id": "5aaff1de",
      "metadata": {
        "id": "5aaff1de",
        "outputId": "d156c8a3-1ad5-4507-a21c-68bb81fccbfe"
      },
      "outputs": [
        {
          "data": {
            "image/png": "[encoded data removed]",
            "text/plain": [
              "<Figure size 1080x720 with 1 Axes>"
            ]
          },
          "metadata": {
            "needs_background": "light"
          },
          "output_type": "display_data"
        }
      ],
      "source": [
        "countplot_targetvsfeature('Embarked','Survived')"
      ]
    },
    {
      "cell_type": "markdown",
      "id": "8ffa8081",
      "metadata": {
        "id": "8ffa8081"
      },
      "source": [
        "Observations: \n",
        "\n",
        "Most of our Titanic passengers embarked by the Southampton station."
      ]
    },
    {
      "cell_type": "code",
      "execution_count": null,
      "id": "c061abf4",
      "metadata": {
        "id": "c061abf4",
        "outputId": "a5905c48-3589-447a-af45-6e37d94ddcf1"
      },
      "outputs": [
        {
          "data": {
            "image/png": "[encoded data removed]",
            "text/plain": [
              "<Figure size 432x288 with 1 Axes>"
            ]
          },
          "metadata": {
            "needs_background": "light"
          },
          "output_type": "display_data"
        }
      ],
      "source": [
        "countplot_features('Pclass')"
      ]
    },
    {
      "cell_type": "code",
      "execution_count": null,
      "id": "991aa38b",
      "metadata": {
        "id": "991aa38b",
        "outputId": "2e59ccb3-bf5f-42f9-a2db-8941ca00cfaa"
      },
      "outputs": [
        {
          "data": {
            "image/png": "[encoded data removed]",
            "text/plain": [
              "<Figure size 1080x720 with 1 Axes>"
            ]
          },
          "metadata": {
            "needs_background": "light"
          },
          "output_type": "display_data"
        }
      ],
      "source": [
        "countplot_targetvsfeature('Pclass','Survived')"
      ]
    },
    {
      "cell_type": "markdown",
      "id": "757fbea6",
      "metadata": {
        "id": "757fbea6"
      },
      "source": [
        "Observations: Most of the passengers were travelling in the third class, but most of them did not survive. However, in the first class, most of the passengers survived."
      ]
    },
    {
      "cell_type": "markdown",
      "id": "eb8e9b07",
      "metadata": {
        "id": "eb8e9b07"
      },
      "source": [
        "**Distribution Plots for Continuous variables**"
      ]
    },
    {
      "cell_type": "code",
      "execution_count": null,
      "id": "64f1b8d9",
      "metadata": {
        "id": "64f1b8d9",
        "outputId": "221c6cf8-c36d-43b8-f351-955be5553d6c"
      },
      "outputs": [
        {
          "name": "stderr",
          "output_type": "stream",
          "text": [
            "/home/gitpod/.pyenv/versions/3.8.13/lib/python3.8/site-packages/seaborn/distributions.py:2619: FutureWarning: `distplot` is a deprecated function and will be removed in a future version. Please adapt your code to use either `displot` (a figure-level function with similar flexibility) or `histplot` (an axes-level function for histograms).\n",
            "  warnings.warn(msg, FutureWarning)\n"
          ]
        },
        {
          "data": {
            "text/plain": [
              "<AxesSubplot:xlabel='Age', ylabel='Density'>"
            ]
          },
          "execution_count": 4,
          "metadata": {},
          "output_type": "execute_result"
        },
        {
          "data": {
            "image/png": "[encoded data removed]",
            "text/plain": [
              "<Figure size 432x288 with 1 Axes>"
            ]
          },
          "metadata": {
            "needs_background": "light"
          },
          "output_type": "display_data"
        }
      ],
      "source": [
        "#Let's plot the Probability Density Function (PDF) of Age of 891 passengers traveling in the Titanic.\n",
        "\n",
        "sns.distplot(train_data['Age'])"
      ]
    },
    {
      "cell_type": "code",
      "execution_count": null,
      "id": "6c9bb608",
      "metadata": {
        "id": "6c9bb608",
        "outputId": "337bf12a-466e-4bd7-8bc7-a1209c3e8239"
      },
      "outputs": [
        {
          "data": {
            "text/plain": [
              "(0.0, 1.05)"
            ]
          },
          "execution_count": 16,
          "metadata": {},
          "output_type": "execute_result"
        },
        {
          "data": {
            "image/png": "[encoded data removed]",
            "text/plain": [
              "<Figure size 432x288 with 1 Axes>"
            ]
          },
          "metadata": {
            "needs_background": "light"
          },
          "output_type": "display_data"
        }
      ],
      "source": [
        "#View if there is a linear relation between continuous numerical variable Age & target variable Survived.\n",
        "\n",
        "sns.regplot(x = \"Age\", y = \"Survived\", data = train_data)\n",
        "plt.ylim(0,)"
      ]
    },
    {
      "cell_type": "markdown",
      "id": "ed4f01a3",
      "metadata": {
        "id": "ed4f01a3"
      },
      "source": [
        "Observations:\n",
        "\n",
        "There is clear negative linear relation between Age and our target variable. This makes sense considering that children was one of the groups who had preference in using the boats to survive (Survive = 1)."
      ]
    },
    {
      "cell_type": "code",
      "execution_count": null,
      "id": "e7763a58",
      "metadata": {
        "id": "e7763a58",
        "outputId": "35a0fd7b-ce6e-4774-a488-e2771f2dcc69"
      },
      "outputs": [
        {
          "name": "stderr",
          "output_type": "stream",
          "text": [
            "/home/gitpod/.pyenv/versions/3.8.13/lib/python3.8/site-packages/seaborn/distributions.py:2619: FutureWarning: `distplot` is a deprecated function and will be removed in a future version. Please adapt your code to use either `displot` (a figure-level function with similar flexibility) or `histplot` (an axes-level function for histograms).\n",
            "  warnings.warn(msg, FutureWarning)\n"
          ]
        },
        {
          "data": {
            "text/plain": [
              "<AxesSubplot:xlabel='Fare', ylabel='Density'>"
            ]
          },
          "execution_count": 8,
          "metadata": {},
          "output_type": "execute_result"
        },
        {
          "data": {
            "image/png": "[encoded data removed]",
            "text/plain": [
              "<Figure size 432x288 with 1 Axes>"
            ]
          },
          "metadata": {
            "needs_background": "light"
          },
          "output_type": "display_data"
        }
      ],
      "source": [
        "#Let's plot the Probability Density Function (PDF) of Fare paid by 891 passengers traveling in the Titanic.\n",
        "sns.distplot(train_data['Fare'])"
      ]
    },
    {
      "cell_type": "markdown",
      "id": "f1154dec",
      "metadata": {
        "id": "f1154dec"
      },
      "source": [
        "Observations: From the above plotted PDF of Fare we can see that a majority of points in distribution lie between 0 to 100"
      ]
    },
    {
      "cell_type": "code",
      "execution_count": null,
      "id": "3cbde72c",
      "metadata": {
        "id": "3cbde72c",
        "outputId": "48b6b2bb-1c73-41da-9d62-990c5bc5ce71"
      },
      "outputs": [
        {
          "data": {
            "text/plain": [
              "(0.0, 2.1616921754597285)"
            ]
          },
          "execution_count": 3,
          "metadata": {},
          "output_type": "execute_result"
        },
        {
          "data": {
            "image/png": "[encoded data removed]",
            "text/plain": [
              "<Figure size 432x288 with 1 Axes>"
            ]
          },
          "metadata": {
            "needs_background": "light"
          },
          "output_type": "display_data"
        }
      ],
      "source": [
        "# View if there is a linear relation between continuous numerical variable Fare & target variable Survived.\n",
        "\n",
        "sns.regplot(x = \"Fare\", y = \"Survived\", data = train_data)\n",
        "plt.ylim(0,)"
      ]
    },
    {
      "cell_type": "markdown",
      "id": "786bab8b",
      "metadata": {
        "id": "786bab8b"
      },
      "source": [
        "Observations: \n",
        "\n",
        "Yes, there is a positive linear relation between 'Fare' and 'Survived' feature which means that people who paid a more expensive fare had more probabilities to survive (Survive = 1)."
      ]
    },
    {
      "cell_type": "markdown",
      "id": "0012d00f",
      "metadata": {
        "id": "0012d00f"
      },
      "source": [
        "### Eliminating duplicated data\n",
        "\n",
        "Duplicates are entries that represent the same sample point multiple times. For example, if a measurement or record was registered twice by two different people. Detecting such duplicates is not always easy, as each dataset might have a unique identifier (e.g. an index number or an ID that is unique to each new sample). If we are not sure yet about which is the column that identifies each unique sample, we might want to ignore them first. And once we are aware about the number of duplicates in our dataset, we can simply drop them with drop_duplicates().\n",
        "\n",
        "In the case of our dataset, it is not difficult to find that unique identifier column because it's column name is very clear: PassengerId."
      ]
    },
    {
      "cell_type": "code",
      "execution_count": null,
      "id": "4873ba98",
      "metadata": {
        "id": "4873ba98",
        "outputId": "bc8fd4cf-8e9a-42d9-eb99-d930c21d249d"
      },
      "outputs": [
        {
          "name": "stdout",
          "output_type": "stream",
          "text": [
            "It seems that there are 0 duplicated passenger according to the PassengerId feature\n"
          ]
        }
      ],
      "source": [
        "train_duplicates = train_data['PassengerId'].duplicated().sum()\n",
        "\n",
        "print(f'It seems that there are {train_duplicates} duplicated passenger according to the PassengerId feature')"
      ]
    },
    {
      "cell_type": "code",
      "execution_count": null,
      "id": "e1349216",
      "metadata": {
        "id": "e1349216",
        "outputId": "8eb9fa36-76d8-4df3-8504-7b7ec12adff2"
      },
      "outputs": [
        {
          "name": "stdout",
          "output_type": "stream",
          "text": [
            "It seems that there are 0 duplicated passenger according to the PassengerId feature\n"
          ]
        }
      ],
      "source": [
        "test_duplicates = test_data['PassengerId'].duplicated().sum()\n",
        "\n",
        "print(f'It seems that there are {test_duplicates} duplicated passenger according to the PassengerId feature')"
      ]
    },
    {
      "cell_type": "markdown",
      "id": "5a611887",
      "metadata": {
        "id": "5a611887"
      },
      "source": [
        "### Eliminating irrelevant data\n",
        "\n",
        "The following columns will not be useful for prediction, so we will eliminate them, in train and test datasets."
      ]
    },
    {
      "cell_type": "code",
      "execution_count": null,
      "id": "71c1fede",
      "metadata": {
        "id": "71c1fede"
      },
      "outputs": [],
      "source": [
        "#Drop irrelevant columns in train data\n",
        "\n",
        "drop_cols = ['PassengerId','Cabin', 'Ticket', 'Name']\n",
        "train_data.drop(drop_cols, axis = 1, inplace = True)"
      ]
    },
    {
      "cell_type": "code",
      "execution_count": null,
      "id": "ac73f157",
      "metadata": {
        "id": "ac73f157"
      },
      "outputs": [],
      "source": [
        "#Drop same irrelevant columns in test data\n",
        "\n",
        "test_data.drop(drop_cols, axis = 1, inplace = True)"
      ]
    },
    {
      "cell_type": "markdown",
      "id": "126dd96d",
      "metadata": {
        "id": "126dd96d"
      },
      "source": [
        "**Pandas drop_duplicates() Function Syntax:**\n",
        "\n",
        "DataFrame.drop_duplicates(subset=None, keep=’first’, inplace=False)\n",
        "\n",
        "**Pandas drop_duplicates() Function Parameters:**\n",
        "\n",
        "subset: Subset takes a column or list of column label for identifying duplicate rows. By default, all the columns are used to find the duplicate rows.\n",
        "\n",
        "keep: allowed values are {‘first’, ‘last’, False}, default ‘first’. If ‘first’, duplicate rows except the first one is deleted. If ‘last’, duplicate rows except the last one is deleted. If False, all the duplicate rows are deleted.\n",
        "\n",
        "inplace: if True, the source DataFrame itself is changed. By default, source DataFrame remains unchanged and a new DataFrame instance is returned."
      ]
    },
    {
      "cell_type": "markdown",
      "id": "2417b6d0",
      "metadata": {
        "id": "2417b6d0"
      },
      "source": [
        "### Plotting different features against one other using heatmaps"
      ]
    },
    {
      "cell_type": "markdown",
      "id": "c8d7791f",
      "metadata": {
        "id": "c8d7791f"
      },
      "source": [
        "Correlations between variables can be found using pandas “.corr()” function and visualized with a matrix by using a heatmap in seaborn.\n",
        "The following heatmap shows some strong and weak correlations between variables. Dark shades represent negative correlation while lighter shades represent positive correlation."
      ]
    },
    {
      "cell_type": "code",
      "execution_count": null,
      "id": "be20c676",
      "metadata": {
        "id": "be20c676",
        "outputId": "f01b649b-6397-4af8-a915-743e8e516866"
      },
      "outputs": [
        {
          "data": {
            "text/plain": [
              "<AxesSubplot:>"
            ]
          },
          "execution_count": 8,
          "metadata": {},
          "output_type": "execute_result"
        },
        {
          "data": {
            "image/png": "[encoded data removed]",
            "text/plain": [
              "<Figure size 864x576 with 2 Axes>"
            ]
          },
          "metadata": {
            "needs_background": "light"
          },
          "output_type": "display_data"
        }
      ],
      "source": [
        "#Plotting a heatmap to find relations between features\n",
        "\n",
        "plt.figure(figsize=(12, 8))\n",
        "sns.heatmap(train_data.corr(), annot=True, cmap='viridis')"
      ]
    },
    {
      "cell_type": "markdown",
      "id": "7d97de26",
      "metadata": {
        "id": "7d97de26"
      },
      "source": [
        "Observations:\n",
        "\n",
        "Here you can infer that there is a strong negative relation between Fare and PClass. This is totally understandable because if a passenger instead of buying a ticket in 1st class (PClass = 1), decided to buy a ticket in 3rd class (PClass = 3), the ticket fare would certainly decrease.\n",
        "\n",
        "There is also a negative relation between the passenger class (pclass) and the age of the passenger. That means that 3rd class (Pclass = 3) had younger passengers than the 1st class (Pclass = 1).\n",
        "\n",
        "Also, we can see that Pclass is very related to the target variable 'Survived'. So the better passenger class, more probabilities to survive. We can confirm this relationship with the following graph."
      ]
    },
    {
      "cell_type": "code",
      "execution_count": null,
      "id": "240377a2",
      "metadata": {
        "id": "240377a2",
        "outputId": "90f4adcf-46c8-4a55-f65d-cc9d92d860be"
      },
      "outputs": [
        {
          "data": {
            "image/png": "[encoded data removed]",
            "text/plain": [
              "<Figure size 576x288 with 1 Axes>"
            ]
          },
          "metadata": {
            "needs_background": "light"
          },
          "output_type": "display_data"
        }
      ],
      "source": [
        "#Checking correlation between Pclass and Fare:\n",
        "plt.figure(figsize = (8, 4))\n",
        "sns.boxplot(y = train_data.Pclass, x = train_data.Fare, orient = 'h', showfliers = False, palette = 'gist_heat')\n",
        "plt.ylabel('Passenger Class')\n",
        "plt.yticks([0,1,2], ['First Class','Second Class', 'Third Class'])\n",
        "plt.show()"
      ]
    },
    {
      "cell_type": "markdown",
      "id": "074d3098",
      "metadata": {
        "id": "074d3098"
      },
      "source": [
        ">The parameter showfliers = False is ignoring the outliers. But if we do not establish that parameter, we can use boxplots to view outliers.\n",
        "\n"
      ]
    },
    {
      "cell_type": "markdown",
      "id": "e3b78cc5",
      "metadata": {
        "id": "e3b78cc5"
      },
      "source": [
        "There are different ways of visualizing relationships:"
      ]
    },
    {
      "cell_type": "code",
      "execution_count": null,
      "id": "b7e3a2dd",
      "metadata": {
        "id": "b7e3a2dd",
        "outputId": "00de6609-af15-4b8b-e302-15c7ab032c91"
      },
      "outputs": [
        {
          "data": {
            "text/plain": [
              "<seaborn.axisgrid.PairGrid at 0x21db6e55db0>"
            ]
          },
          "execution_count": 10,
          "metadata": {},
          "output_type": "execute_result"
        },
        {
          "data": {
            "image/png": "[encoded data removed]",
            "text/plain": [
              "<Figure size 1080x1080 with 42 Axes>"
            ]
          },
          "metadata": {
            "needs_background": "light"
          },
          "output_type": "display_data"
        }
      ],
      "source": [
        "#Using seaborn.pairplot for a grid visualization of every relationship\n",
        "\n",
        "sns.pairplot(data=train_data)"
      ]
    },
    {
      "cell_type": "code",
      "execution_count": null,
      "id": "41bee425",
      "metadata": {
        "id": "41bee425",
        "outputId": "b44f477c-33c4-43d8-8721-fbd6c15c24cc"
      },
      "outputs": [
        {
          "data": {
            "text/plain": [
              "Survived    1.000000\n",
              "Pclass     -0.334068\n",
              "Sex        -0.545899\n",
              "Age        -0.067081\n",
              "SibSp      -0.033395\n",
              "Parch       0.082157\n",
              "Fare        0.261742\n",
              "Embarked    0.102964\n",
              "fam_mbrs    0.018211\n",
              "Name: Survived, dtype: float64"
            ]
          },
          "execution_count": 20,
          "metadata": {},
          "output_type": "execute_result"
        }
      ],
      "source": [
        "#Correlation of features with target\n",
        "\n",
        "train_data.corr()[\"Survived\"]"
      ]
    },
    {
      "cell_type": "code",
      "execution_count": null,
      "id": "2ef91b6c",
      "metadata": {
        "id": "2ef91b6c",
        "outputId": "0089772e-8cb8-4c5a-c1ea-5a49c376a100"
      },
      "outputs": [
        {
          "data": {
            "text/html": [
              "<div>\n",
              "<style scoped>\n",
              "    .dataframe tbody tr th:only-of-type {\n",
              "        vertical-align: middle;\n",
              "    }\n",
              "\n",
              "    .dataframe tbody tr th {\n",
              "        vertical-align: top;\n",
              "    }\n",
              "\n",
              "    .dataframe thead th {\n",
              "        text-align: right;\n",
              "    }\n",
              "</style>\n",
              "<table border=\"1\" class=\"dataframe\">\n",
              "  <thead>\n",
              "    <tr style=\"text-align: right;\">\n",
              "      <th></th>\n",
              "      <th>Survived</th>\n",
              "      <th>Pclass</th>\n",
              "      <th>Age</th>\n",
              "      <th>SibSp</th>\n",
              "      <th>Parch</th>\n",
              "      <th>Fare</th>\n",
              "    </tr>\n",
              "  </thead>\n",
              "  <tbody>\n",
              "    <tr>\n",
              "      <th>Survived</th>\n",
              "      <td>1.000000</td>\n",
              "      <td>-0.338481</td>\n",
              "      <td>-0.077221</td>\n",
              "      <td>-0.035322</td>\n",
              "      <td>0.081629</td>\n",
              "      <td>0.257307</td>\n",
              "    </tr>\n",
              "    <tr>\n",
              "      <th>Pclass</th>\n",
              "      <td>-0.338481</td>\n",
              "      <td>1.000000</td>\n",
              "      <td>-0.369226</td>\n",
              "      <td>0.083081</td>\n",
              "      <td>0.018443</td>\n",
              "      <td>-0.549500</td>\n",
              "    </tr>\n",
              "    <tr>\n",
              "      <th>Age</th>\n",
              "      <td>-0.077221</td>\n",
              "      <td>-0.369226</td>\n",
              "      <td>1.000000</td>\n",
              "      <td>-0.308247</td>\n",
              "      <td>-0.189119</td>\n",
              "      <td>0.096067</td>\n",
              "    </tr>\n",
              "    <tr>\n",
              "      <th>SibSp</th>\n",
              "      <td>-0.035322</td>\n",
              "      <td>0.083081</td>\n",
              "      <td>-0.308247</td>\n",
              "      <td>1.000000</td>\n",
              "      <td>0.414838</td>\n",
              "      <td>0.159651</td>\n",
              "    </tr>\n",
              "    <tr>\n",
              "      <th>Parch</th>\n",
              "      <td>0.081629</td>\n",
              "      <td>0.018443</td>\n",
              "      <td>-0.189119</td>\n",
              "      <td>0.414838</td>\n",
              "      <td>1.000000</td>\n",
              "      <td>0.216225</td>\n",
              "    </tr>\n",
              "    <tr>\n",
              "      <th>Fare</th>\n",
              "      <td>0.257307</td>\n",
              "      <td>-0.549500</td>\n",
              "      <td>0.096067</td>\n",
              "      <td>0.159651</td>\n",
              "      <td>0.216225</td>\n",
              "      <td>1.000000</td>\n",
              "    </tr>\n",
              "  </tbody>\n",
              "</table>\n",
              "</div>"
            ],
            "text/plain": [
              "          Survived    Pclass       Age     SibSp     Parch      Fare\n",
              "Survived  1.000000 -0.338481 -0.077221 -0.035322  0.081629  0.257307\n",
              "Pclass   -0.338481  1.000000 -0.369226  0.083081  0.018443 -0.549500\n",
              "Age      -0.077221 -0.369226  1.000000 -0.308247 -0.189119  0.096067\n",
              "SibSp    -0.035322  0.083081 -0.308247  1.000000  0.414838  0.159651\n",
              "Parch     0.081629  0.018443 -0.189119  0.414838  1.000000  0.216225\n",
              "Fare      0.257307 -0.549500  0.096067  0.159651  0.216225  1.000000"
            ]
          },
          "execution_count": 11,
          "metadata": {},
          "output_type": "execute_result"
        }
      ],
      "source": [
        "#Using transpose\n",
        "\n",
        "train_data_corr = train_data.corr().transpose()\n",
        "train_data_corr"
      ]
    },
    {
      "cell_type": "code",
      "execution_count": null,
      "id": "0bff154d",
      "metadata": {
        "id": "0bff154d",
        "outputId": "c33c3927-bd4d-42ba-f1a1-7fa91039d66e"
      },
      "outputs": [
        {
          "data": {
            "image/png": "[encoded data removed]",
            "text/plain": [
              "<Figure size 720x720 with 2 Axes>"
            ]
          },
          "metadata": {},
          "output_type": "display_data"
        }
      ],
      "source": [
        "# Using a different way of correlation matrix\n",
        "\n",
        "background_color = \"#97CADB\"\n",
        "\n",
        "fig = plt.figure(figsize=(10,10))\n",
        "gs = fig.add_gridspec(1,1)\n",
        "gs.update(wspace=0.3, hspace=0.15)\n",
        "ax0 = fig.add_subplot(gs[0,0])\n",
        "fig.patch.set_facecolor(background_color) \n",
        "ax0.set_facecolor(background_color) \n",
        "\n",
        "# train_data_corr = train_data[['Age', 'Fare', 'SibSp', 'Parch', 'Pclass','Survived']].corr().transpose()\n",
        "mask = np.triu(np.ones_like(train_data_corr))\n",
        "ax0.text(2,-0.1,\"Correlation Matrix\",fontsize=22, fontweight='bold', fontfamily='cursive', color=\"#000000\")\n",
        "sns.heatmap(train_data_corr,mask=mask,fmt=\".1f\",annot=True)\n",
        "plt.show()"
      ]
    },
    {
      "cell_type": "markdown",
      "id": "070f3f02",
      "metadata": {
        "id": "070f3f02"
      },
      "source": [
        "**End of Day 1!**\n",
        "\n",
        "Now, let's do a lot of exploratory data analysis on this module's project!"
      ]
    },
    {
      "cell_type": "markdown",
      "id": "33f6c72c",
      "metadata": {
        "id": "33f6c72c"
      },
      "source": [
        "# DAY 2: FEATURE ENGINEERING"
      ]
    },
    {
      "cell_type": "markdown",
      "id": "89d8d993",
      "metadata": {
        "id": "89d8d993"
      },
      "source": [
        "To read about what exactly are features and why should we do feature engineering, click on the following link: https://github.com/4GeeksAcademy/machine-learning-content/blob/master/05-3d-data/feature-engineering.ipynb\n",
        "\n",
        "The first process we will learn in our Titanic feature engineering will be how to find and deal with extreme values (outliers)."
      ]
    },
    {
      "cell_type": "markdown",
      "id": "d23c0e8b",
      "metadata": {
        "id": "d23c0e8b"
      },
      "source": [
        "### OUTLIERS\n",
        "\n",
        "**FINDING OUTLIERS**"
      ]
    },
    {
      "cell_type": "markdown",
      "id": "02684174",
      "metadata": {
        "id": "02684174"
      },
      "source": [
        "In statistics, an outlier is an observation point that is distant from other observations. In data, it means that our dataframe feature has some extreme values which we need to analyse further. Those extreme values may be typing errors, or they may be extreme values but considered normal in the population we are studying. In the case our outliers are typing errors we need to decide if we are going to eliminate them or replace them with another value. In the case a feature's outliers are considered normal and part of the population, it may be better if we keep them because it will give important information to our model. \n",
        "\n",
        "How important we consider the feature for our model will influence in our decision about what to do with outliers.\n",
        "\n",
        "Pandas describe() method is used to view some basic statistical details like percentile, mean, std, etc. of a data frame or a series of numeric values. In the case we would like to see the object type features using describe(), this should be entered as 'dataframe.describe(include='O')' and it will show us the most frequent value and how many times it appears.\n",
        "\n",
        "Syntax: \n",
        "\n",
        "DataFrame.describe(percentiles=None, include=None, exclude=None)\n",
        "\n",
        "Parameters:\n",
        "\n",
        "percentile: list like data type of numbers between 0-1 to return the respective percentile\n",
        "\n",
        "include: List of data types to be included while describing dataframe. Default is None\n",
        "\n",
        "exclude: List of data types to be Excluded while describing dataframe. Default is None\n",
        "\n",
        "Return type: Statistical summary of data frame."
      ]
    },
    {
      "cell_type": "code",
      "execution_count": null,
      "id": "f7c6ae52",
      "metadata": {
        "id": "f7c6ae52",
        "outputId": "c6ff0119-de02-4642-a3a8-10776ad6d5f6"
      },
      "outputs": [
        {
          "data": {
            "text/html": [
              "<div>\n",
              "<style scoped>\n",
              "    .dataframe tbody tr th:only-of-type {\n",
              "        vertical-align: middle;\n",
              "    }\n",
              "\n",
              "    .dataframe tbody tr th {\n",
              "        vertical-align: top;\n",
              "    }\n",
              "\n",
              "    .dataframe thead th {\n",
              "        text-align: right;\n",
              "    }\n",
              "</style>\n",
              "<table border=\"1\" class=\"dataframe\">\n",
              "  <thead>\n",
              "    <tr style=\"text-align: right;\">\n",
              "      <th></th>\n",
              "      <th>Survived</th>\n",
              "      <th>Pclass</th>\n",
              "      <th>Age</th>\n",
              "      <th>SibSp</th>\n",
              "      <th>Parch</th>\n",
              "      <th>Fare</th>\n",
              "    </tr>\n",
              "  </thead>\n",
              "  <tbody>\n",
              "    <tr>\n",
              "      <th>count</th>\n",
              "      <td>891.000000</td>\n",
              "      <td>891.000000</td>\n",
              "      <td>714.000000</td>\n",
              "      <td>891.000000</td>\n",
              "      <td>891.000000</td>\n",
              "      <td>891.000000</td>\n",
              "    </tr>\n",
              "    <tr>\n",
              "      <th>mean</th>\n",
              "      <td>0.383838</td>\n",
              "      <td>2.308642</td>\n",
              "      <td>29.699118</td>\n",
              "      <td>0.523008</td>\n",
              "      <td>0.381594</td>\n",
              "      <td>32.204208</td>\n",
              "    </tr>\n",
              "    <tr>\n",
              "      <th>std</th>\n",
              "      <td>0.486592</td>\n",
              "      <td>0.836071</td>\n",
              "      <td>14.526497</td>\n",
              "      <td>1.102743</td>\n",
              "      <td>0.806057</td>\n",
              "      <td>49.693429</td>\n",
              "    </tr>\n",
              "    <tr>\n",
              "      <th>min</th>\n",
              "      <td>0.000000</td>\n",
              "      <td>1.000000</td>\n",
              "      <td>0.420000</td>\n",
              "      <td>0.000000</td>\n",
              "      <td>0.000000</td>\n",
              "      <td>0.000000</td>\n",
              "    </tr>\n",
              "    <tr>\n",
              "      <th>25%</th>\n",
              "      <td>0.000000</td>\n",
              "      <td>2.000000</td>\n",
              "      <td>20.125000</td>\n",
              "      <td>0.000000</td>\n",
              "      <td>0.000000</td>\n",
              "      <td>7.910400</td>\n",
              "    </tr>\n",
              "    <tr>\n",
              "      <th>50%</th>\n",
              "      <td>0.000000</td>\n",
              "      <td>3.000000</td>\n",
              "      <td>28.000000</td>\n",
              "      <td>0.000000</td>\n",
              "      <td>0.000000</td>\n",
              "      <td>14.454200</td>\n",
              "    </tr>\n",
              "    <tr>\n",
              "      <th>75%</th>\n",
              "      <td>1.000000</td>\n",
              "      <td>3.000000</td>\n",
              "      <td>38.000000</td>\n",
              "      <td>1.000000</td>\n",
              "      <td>0.000000</td>\n",
              "      <td>31.000000</td>\n",
              "    </tr>\n",
              "    <tr>\n",
              "      <th>max</th>\n",
              "      <td>1.000000</td>\n",
              "      <td>3.000000</td>\n",
              "      <td>80.000000</td>\n",
              "      <td>8.000000</td>\n",
              "      <td>6.000000</td>\n",
              "      <td>512.329200</td>\n",
              "    </tr>\n",
              "  </tbody>\n",
              "</table>\n",
              "</div>"
            ],
            "text/plain": [
              "         Survived      Pclass         Age       SibSp       Parch        Fare\n",
              "count  891.000000  891.000000  714.000000  891.000000  891.000000  891.000000\n",
              "mean     0.383838    2.308642   29.699118    0.523008    0.381594   32.204208\n",
              "std      0.486592    0.836071   14.526497    1.102743    0.806057   49.693429\n",
              "min      0.000000    1.000000    0.420000    0.000000    0.000000    0.000000\n",
              "25%      0.000000    2.000000   20.125000    0.000000    0.000000    7.910400\n",
              "50%      0.000000    3.000000   28.000000    0.000000    0.000000   14.454200\n",
              "75%      1.000000    3.000000   38.000000    1.000000    0.000000   31.000000\n",
              "max      1.000000    3.000000   80.000000    8.000000    6.000000  512.329200"
            ]
          },
          "execution_count": 15,
          "metadata": {},
          "output_type": "execute_result"
        }
      ],
      "source": [
        "#Let's use the describe method to see the statistics on our numerical features\n",
        "\n",
        "train_data.describe()"
      ]
    },
    {
      "cell_type": "markdown",
      "id": "ff28534a",
      "metadata": {
        "id": "ff28534a"
      },
      "source": [
        "We can see that the 891 records contain data in each and every column left."
      ]
    },
    {
      "cell_type": "code",
      "execution_count": null,
      "id": "67c04c70",
      "metadata": {
        "id": "67c04c70",
        "outputId": "e2d0bd45-4a27-407d-873f-a3d04b2c92aa"
      },
      "outputs": [
        {
          "data": {
            "text/html": [
              "<div>\n",
              "<style scoped>\n",
              "    .dataframe tbody tr th:only-of-type {\n",
              "        vertical-align: middle;\n",
              "    }\n",
              "\n",
              "    .dataframe tbody tr th {\n",
              "        vertical-align: top;\n",
              "    }\n",
              "\n",
              "    .dataframe thead th {\n",
              "        text-align: right;\n",
              "    }\n",
              "</style>\n",
              "<table border=\"1\" class=\"dataframe\">\n",
              "  <thead>\n",
              "    <tr style=\"text-align: right;\">\n",
              "      <th></th>\n",
              "      <th>Sex</th>\n",
              "      <th>Embarked</th>\n",
              "    </tr>\n",
              "  </thead>\n",
              "  <tbody>\n",
              "    <tr>\n",
              "      <th>count</th>\n",
              "      <td>891</td>\n",
              "      <td>889</td>\n",
              "    </tr>\n",
              "    <tr>\n",
              "      <th>unique</th>\n",
              "      <td>2</td>\n",
              "      <td>3</td>\n",
              "    </tr>\n",
              "    <tr>\n",
              "      <th>top</th>\n",
              "      <td>male</td>\n",
              "      <td>S</td>\n",
              "    </tr>\n",
              "    <tr>\n",
              "      <th>freq</th>\n",
              "      <td>577</td>\n",
              "      <td>644</td>\n",
              "    </tr>\n",
              "  </tbody>\n",
              "</table>\n",
              "</div>"
            ],
            "text/plain": [
              "         Sex Embarked\n",
              "count    891      889\n",
              "unique     2        3\n",
              "top     male        S\n",
              "freq     577      644"
            ]
          },
          "execution_count": 18,
          "metadata": {},
          "output_type": "execute_result"
        }
      ],
      "source": [
        "#Now, let's modify its parameters to be able to see some statistics on our categorical features.\n",
        "\n",
        "train_data.describe(include=['O'])"
      ]
    },
    {
      "cell_type": "markdown",
      "id": "84c4ea49",
      "metadata": {
        "id": "84c4ea49"
      },
      "source": [
        "**WHY IS THIS USEFUL TO FIND OUTLIERS?**\n",
        "\n",
        "In the numerical features, we can look at the min and max value for a especific feature, and compare it to its 25% and 75% percentile. We can also compare the mean to the 50% percentile and confirm if there is any extreme high or low value making my mean go up or down, much more than the 50% percentile.\n",
        "\n",
        "Once we suspect there are outliers, we can use a boxplot for that feature to have a better visualization of outliers.\n",
        "\n",
        "Observations: According to our statistics dataframe, everything seems normal except for the 'Fare' column which has a mean of 32.20 but its 50% percentile is 14, and its max value is 512. We could say 512 seems to be an outlier but it could be a typing error. It is also possible that the most expensive ticket had that price. It would be useful if we do some research and confirm that information.\n",
        "\n",
        "Let's see how to write the code for a boxplot in order to visualize outliers.\n",
        "A box plot shows the distribution of quantitative data in a way that facilitates comparisons between variables.The box shows the quartiles of the dataset while the whiskers extend to show the rest of the distribution."
      ]
    },
    {
      "cell_type": "code",
      "execution_count": null,
      "id": "c492cafe",
      "metadata": {
        "id": "c492cafe",
        "outputId": "0e9631c8-31a6-490c-fc26-65bdfeb91e6a"
      },
      "outputs": [
        {
          "data": {
            "text/plain": [
              "Text(0, 0.5, 'Fare')"
            ]
          },
          "execution_count": 19,
          "metadata": {},
          "output_type": "execute_result"
        },
        {
          "data": {
            "image/png": "[encoded data removed]",
            "text/plain": [
              "<Figure size 432x432 with 1 Axes>"
            ]
          },
          "metadata": {
            "needs_background": "light"
          },
          "output_type": "display_data"
        }
      ],
      "source": [
        "#Let's evaluate our 'Fare' variable.\n",
        "\n",
        "plt.figure(figsize=(6,6))\n",
        "sns.boxplot(data=train_data['Fare'])\n",
        "plt.title('Looking for outliers in Fare feature')\n",
        "plt.ylabel('Fare')"
      ]
    },
    {
      "cell_type": "markdown",
      "id": "23361397",
      "metadata": {
        "id": "23361397"
      },
      "source": [
        "Observations: \n",
        "\n",
        "-It looks like the ticket fare of 512 is not very common. We should establish some upper and lower bounds to determine whether a data point should be considered or not an outlier. There are a couple of ways to determine this and we will learn about them in the data cleaning process, on how to deal with outliers."
      ]
    },
    {
      "cell_type": "markdown",
      "id": "cd8c5a2a",
      "metadata": {
        "id": "cd8c5a2a"
      },
      "source": [
        "**HOW TO DEAL WITH OUTLIERS**\n",
        "\n",
        "To learn about the types of outliers and different methods to deal with them, read the information from the following link:\n",
        "\n",
        "https://github.com/4GeeksAcademy/machine-learning-content/blob/master/05-3d-data/how-to-deal-with-outliers.ipynb\n"
      ]
    },
    {
      "cell_type": "markdown",
      "id": "bb89ad2b",
      "metadata": {
        "id": "bb89ad2b"
      },
      "source": [
        "We will apply one of those methods by defining upper and lower bounds. Let's see how is it implemented:"
      ]
    },
    {
      "cell_type": "code",
      "execution_count": null,
      "id": "2fe64ba7",
      "metadata": {
        "id": "2fe64ba7",
        "outputId": "fbd834cc-5632-410e-a9d7-60a771af2095"
      },
      "outputs": [
        {
          "name": "stdout",
          "output_type": "stream",
          "text": [
            "count    891.000000\n",
            "mean      32.204208\n",
            "std       49.693429\n",
            "min        0.000000\n",
            "25%        7.910400\n",
            "50%       14.454200\n",
            "75%       31.000000\n",
            "max      512.329200\n",
            "Name: Fare, dtype: float64\n"
          ]
        }
      ],
      "source": [
        "fare_stat = train_data['Fare'].describe()\n",
        "print(fare_stat)"
      ]
    },
    {
      "cell_type": "code",
      "execution_count": null,
      "id": "e782ddb0",
      "metadata": {
        "id": "e782ddb0",
        "outputId": "c325fe91-f98c-4c41-ed72-e723ba356dbb"
      },
      "outputs": [
        {
          "name": "stdout",
          "output_type": "stream",
          "text": [
            "The upper & lower bounds for suspected outliers are 65.6344 and -26.724.\n"
          ]
        }
      ],
      "source": [
        "IQR = fare_stat['75%']-fare_stat['25%']\n",
        "upper = fare_stat['75%'] + 1.5*IQR\n",
        "lower = fare_stat['25%'] - 1.5*IQR\n",
        "print('The upper & lower bounds for suspected outliers are {} and {}.'.format(upper,lower))"
      ]
    },
    {
      "cell_type": "markdown",
      "id": "0d806eae",
      "metadata": {
        "id": "0d806eae"
      },
      "source": [
        "Based on this results, we should drop Fare values above 65. However, our criteria is very important here, and based on the prices we saw in the boxplot the most extreme values are above 300. Let's see how many values represent that extreme value of 512 and drop them."
      ]
    },
    {
      "cell_type": "code",
      "execution_count": null,
      "id": "ee3da783",
      "metadata": {
        "id": "ee3da783",
        "outputId": "9ec2c37e-d4e2-4b95-8b3d-83a539148800"
      },
      "outputs": [
        {
          "data": {
            "text/html": [
              "<div>\n",
              "<style scoped>\n",
              "    .dataframe tbody tr th:only-of-type {\n",
              "        vertical-align: middle;\n",
              "    }\n",
              "\n",
              "    .dataframe tbody tr th {\n",
              "        vertical-align: top;\n",
              "    }\n",
              "\n",
              "    .dataframe thead th {\n",
              "        text-align: right;\n",
              "    }\n",
              "</style>\n",
              "<table border=\"1\" class=\"dataframe\">\n",
              "  <thead>\n",
              "    <tr style=\"text-align: right;\">\n",
              "      <th></th>\n",
              "      <th>Survived</th>\n",
              "      <th>Pclass</th>\n",
              "      <th>Sex</th>\n",
              "      <th>Age</th>\n",
              "      <th>SibSp</th>\n",
              "      <th>Parch</th>\n",
              "      <th>Fare</th>\n",
              "      <th>Embarked</th>\n",
              "    </tr>\n",
              "  </thead>\n",
              "  <tbody>\n",
              "    <tr>\n",
              "      <th>258</th>\n",
              "      <td>1</td>\n",
              "      <td>1</td>\n",
              "      <td>female</td>\n",
              "      <td>35.0</td>\n",
              "      <td>0</td>\n",
              "      <td>0</td>\n",
              "      <td>512.3292</td>\n",
              "      <td>C</td>\n",
              "    </tr>\n",
              "    <tr>\n",
              "      <th>679</th>\n",
              "      <td>1</td>\n",
              "      <td>1</td>\n",
              "      <td>male</td>\n",
              "      <td>36.0</td>\n",
              "      <td>0</td>\n",
              "      <td>1</td>\n",
              "      <td>512.3292</td>\n",
              "      <td>C</td>\n",
              "    </tr>\n",
              "    <tr>\n",
              "      <th>737</th>\n",
              "      <td>1</td>\n",
              "      <td>1</td>\n",
              "      <td>male</td>\n",
              "      <td>35.0</td>\n",
              "      <td>0</td>\n",
              "      <td>0</td>\n",
              "      <td>512.3292</td>\n",
              "      <td>C</td>\n",
              "    </tr>\n",
              "  </tbody>\n",
              "</table>\n",
              "</div>"
            ],
            "text/plain": [
              "     Survived  Pclass     Sex   Age  SibSp  Parch      Fare Embarked\n",
              "258         1       1  female  35.0      0      0  512.3292        C\n",
              "679         1       1    male  36.0      0      1  512.3292        C\n",
              "737         1       1    male  35.0      0      0  512.3292        C"
            ]
          },
          "execution_count": 23,
          "metadata": {},
          "output_type": "execute_result"
        }
      ],
      "source": [
        "#visualizing data with fare above 300\n",
        "\n",
        "train_data[train_data['Fare'] > 300]"
      ]
    },
    {
      "cell_type": "markdown",
      "id": "cf3f0573",
      "metadata": {
        "id": "cf3f0573"
      },
      "source": [
        "Observations: The three individuals who payed a fare of '512.3292' did survive. Should we drop them? Or can they bring valuable information to our model?\n",
        "\n",
        "We'll learn how to drop rows with values bigger than certain value. But you are welcome to investigate more about Titanic fares and decide if keeping them or not."
      ]
    },
    {
      "cell_type": "code",
      "execution_count": null,
      "id": "e676f437",
      "metadata": {
        "id": "e676f437"
      },
      "outputs": [],
      "source": [
        "#Dropping data with fare above 300\n",
        "\n",
        "train_data.drop(train_data[(train_data['Fare'] > 300)].index, inplace=True)"
      ]
    },
    {
      "cell_type": "code",
      "execution_count": null,
      "id": "0e853183",
      "metadata": {
        "id": "0e853183",
        "outputId": "30e1d08f-ef83-4cf2-9afd-de2cd303adc6"
      },
      "outputs": [
        {
          "data": {
            "text/plain": [
              "(888, 8)"
            ]
          },
          "execution_count": 14,
          "metadata": {},
          "output_type": "execute_result"
        }
      ],
      "source": [
        "#Confirm there are three rows less.\n",
        "\n",
        "train_data.shape"
      ]
    },
    {
      "cell_type": "markdown",
      "id": "e216e756",
      "metadata": {
        "id": "e216e756"
      },
      "source": [
        "We confirm that we have eliminated those 3 outliers!"
      ]
    },
    {
      "cell_type": "markdown",
      "id": "e7a6ed4d",
      "metadata": {
        "id": "e7a6ed4d"
      },
      "source": [
        "### MISSING VALUES\n",
        "\n",
        "**FINDING MISSING OR NULL VALUES**"
      ]
    },
    {
      "cell_type": "markdown",
      "id": "f7bfb0b5",
      "metadata": {
        "id": "f7bfb0b5"
      },
      "source": [
        "Most of the machine learning algorithms are not able to handle missing values. Having some missing values is normal and we should decide if eliminating them or replacing them with other values. What we want to identify at this stage are big holes in the dataset with features that have a lot of missing values.\n",
        "\n",
        "We begin by separating our features into numerical and categorical columns. We do this because the method to handle missing values, later, will be different for these two data types."
      ]
    },
    {
      "cell_type": "code",
      "execution_count": null,
      "id": "ccb045cb",
      "metadata": {
        "id": "ccb045cb",
        "outputId": "65095b01-cde0-4718-80a9-854c9d44f270"
      },
      "outputs": [
        {
          "name": "stdout",
          "output_type": "stream",
          "text": [
            "Numerical variables: Index(['Survived', 'Pclass', 'Age', 'SibSp', 'Parch', 'Fare'], dtype='object')\n",
            "Categorical variables: Index(['Sex', 'Embarked'], dtype='object')\n"
          ]
        }
      ],
      "source": [
        "# Separate numerical and categorical variables.\n",
        "\n",
        "num_vars = train_data.columns[train_data.dtypes != 'object']\n",
        "cat_vars = train_data.columns[train_data.dtypes == 'object']\n",
        "\n",
        "print(\"Numerical variables:\", num_vars)\n",
        "print(\"Categorical variables:\", cat_vars)"
      ]
    },
    {
      "cell_type": "markdown",
      "id": "3e10c227",
      "metadata": {
        "id": "3e10c227"
      },
      "source": [
        "We will use the pandas “isnull()” function to find out all the fields which have missing values. This will return True if a field has missing values and false if the field does not have missing values. \n",
        "To get how many missing values are in each column we use sum() along with isnull(). This will sum up all the True’s in each column. "
      ]
    },
    {
      "cell_type": "code",
      "execution_count": null,
      "id": "30a92cdb",
      "metadata": {
        "id": "30a92cdb",
        "outputId": "d9497bfc-e16f-4a37-b520-ecc9c6a4e50c"
      },
      "outputs": [
        {
          "data": {
            "text/plain": [
              "Survived      0\n",
              "Pclass        0\n",
              "Age         177\n",
              "SibSp         0\n",
              "Parch         0\n",
              "Fare          0\n",
              "dtype: int64"
            ]
          },
          "execution_count": 12,
          "metadata": {},
          "output_type": "execute_result"
        }
      ],
      "source": [
        "train_data[num_vars].isnull().sum()"
      ]
    },
    {
      "cell_type": "code",
      "execution_count": null,
      "id": "7643760d",
      "metadata": {
        "id": "7643760d",
        "outputId": "a29efc81-85aa-4aa2-ee3a-d36991ae5660"
      },
      "outputs": [
        {
          "data": {
            "text/plain": [
              "Sex         0\n",
              "Embarked    2\n",
              "dtype: int64"
            ]
          },
          "execution_count": 13,
          "metadata": {},
          "output_type": "execute_result"
        }
      ],
      "source": [
        "train_data[cat_vars].isnull().sum()"
      ]
    },
    {
      "cell_type": "markdown",
      "id": "d5f19158",
      "metadata": {
        "id": "d5f19158"
      },
      "source": [
        "Now, sort_values() will sort the missing values in ascending order. It is always a good practice to sort them in descending order so we can see the columns that have the highest number of missing values first."
      ]
    },
    {
      "cell_type": "code",
      "execution_count": null,
      "id": "dc240726",
      "metadata": {
        "id": "dc240726",
        "outputId": "7a57231e-150f-4f2f-af89-46664d76b5cb"
      },
      "outputs": [
        {
          "data": {
            "text/plain": [
              "Age         177\n",
              "Survived      0\n",
              "Pclass        0\n",
              "SibSp         0\n",
              "Parch         0\n",
              "Fare          0\n",
              "dtype: int64"
            ]
          },
          "execution_count": 29,
          "metadata": {},
          "output_type": "execute_result"
        }
      ],
      "source": [
        "train_data[num_vars].isnull().sum().sort_values(ascending=False)"
      ]
    },
    {
      "cell_type": "code",
      "execution_count": null,
      "id": "fcda4828",
      "metadata": {
        "id": "fcda4828",
        "outputId": "d1e8da11-75d3-4fad-f6cb-430313a21238"
      },
      "outputs": [
        {
          "data": {
            "text/plain": [
              "Embarked    2\n",
              "Sex         0\n",
              "dtype: int64"
            ]
          },
          "execution_count": 30,
          "metadata": {},
          "output_type": "execute_result"
        }
      ],
      "source": [
        "train_data[cat_vars].isnull().sum().sort_values(ascending=False)"
      ]
    },
    {
      "cell_type": "markdown",
      "id": "0f9d2354",
      "metadata": {
        "id": "0f9d2354"
      },
      "source": [
        "Finally , we can divide that result by the length of our dataframe (the number of rows) in order to get the percentage of missing values in each column. Missing values are usually represented in the form of Nan, null or None in the dataset."
      ]
    },
    {
      "cell_type": "code",
      "execution_count": null,
      "id": "30a05cec",
      "metadata": {
        "id": "30a05cec",
        "outputId": "b70dad50-0181-46cb-9528-e16a6da3ac2e"
      },
      "outputs": [
        {
          "data": {
            "text/plain": [
              "Age         0.199324\n",
              "Survived    0.000000\n",
              "Pclass      0.000000\n",
              "SibSp       0.000000\n",
              "Parch       0.000000\n",
              "Fare        0.000000\n",
              "dtype: float64"
            ]
          },
          "execution_count": 31,
          "metadata": {},
          "output_type": "execute_result"
        }
      ],
      "source": [
        "train_data[num_vars].isnull().sum().sort_values(ascending=False)/len(train_data)"
      ]
    },
    {
      "cell_type": "code",
      "execution_count": null,
      "id": "8caaff03",
      "metadata": {
        "id": "8caaff03",
        "outputId": "f91651bd-cf5e-4f64-8412-834984c1f5d3"
      },
      "outputs": [
        {
          "data": {
            "text/plain": [
              "Embarked    0.002252\n",
              "Sex         0.000000\n",
              "dtype: float64"
            ]
          },
          "execution_count": 32,
          "metadata": {},
          "output_type": "execute_result"
        }
      ],
      "source": [
        "train_data[cat_vars].isnull().sum().sort_values(ascending=False)/len(train_data)"
      ]
    },
    {
      "cell_type": "code",
      "execution_count": null,
      "id": "32717ea6",
      "metadata": {
        "id": "32717ea6",
        "outputId": "05c2b642-57dc-4475-fb34-67299a5c418c"
      },
      "outputs": [
        {
          "data": {
            "text/plain": [
              "Pclass       0\n",
              "Sex          0\n",
              "Age         86\n",
              "SibSp        0\n",
              "Parch        0\n",
              "Fare         1\n",
              "Embarked     0\n",
              "dtype: int64"
            ]
          },
          "execution_count": 16,
          "metadata": {},
          "output_type": "execute_result"
        }
      ],
      "source": [
        "# How many null values should I deal with in the test data?\n",
        "\n",
        "test_data.isnull().sum()"
      ]
    },
    {
      "cell_type": "markdown",
      "id": "4978e18f",
      "metadata": {
        "id": "4978e18f"
      },
      "source": [
        "**HOW TO DEAL WITH MISSING VALUES**\n",
        " \n",
        "To learn about the techniques on how to deal with missing values, read the information from the following link:\n",
        "\n",
        "https://github.com/4GeeksAcademy/machine-learning-content/blob/master/05-3d-data/how-to-deal-with-missing-values.ipynb"
      ]
    },
    {
      "cell_type": "code",
      "execution_count": null,
      "id": "1be2b1e1",
      "metadata": {
        "id": "1be2b1e1"
      },
      "outputs": [],
      "source": [
        "# Handling Missing Values in train_data\n",
        "\n",
        "## Fill missing AGE with Median\n",
        "train_data['Age'].fillna(train_data['Age'].median(), inplace=True)\n",
        "\n",
        "## Fill missing EMBARKED with Mode\n",
        "train_data['Embarked'].fillna(train_data['Embarked'].mode()[0], inplace=True)"
      ]
    },
    {
      "cell_type": "markdown",
      "id": "41c2b56b",
      "metadata": {
        "id": "41c2b56b"
      },
      "source": [
        "The notation '[0]' means that the thing before it (mode() in this case) is a collection, a list, an array, ..., and you are taking the first element.\n",
        "\n",
        "The mode() returns 2 values, first is mode value, second is count. So 'train_data['Embarked'].mode()[0]' means we get the mode value of 'train_data['Embarked']'.\n",
        "\n",
        "Let's verify there were no missing values left:"
      ]
    },
    {
      "cell_type": "code",
      "execution_count": null,
      "id": "5ef5c70a",
      "metadata": {
        "id": "5ef5c70a",
        "outputId": "b5c8c3be-0665-49e8-8731-55204d4d1011"
      },
      "outputs": [
        {
          "data": {
            "text/plain": [
              "Survived    0\n",
              "Pclass      0\n",
              "Sex         0\n",
              "Age         0\n",
              "SibSp       0\n",
              "Parch       0\n",
              "Fare        0\n",
              "Embarked    0\n",
              "dtype: int64"
            ]
          },
          "execution_count": 16,
          "metadata": {},
          "output_type": "execute_result"
        }
      ],
      "source": [
        "train_data.isnull().sum()"
      ]
    },
    {
      "cell_type": "markdown",
      "id": "915a72c9",
      "metadata": {
        "id": "915a72c9"
      },
      "source": [
        "Now let's also handle the missing values in our test data:"
      ]
    },
    {
      "cell_type": "code",
      "execution_count": null,
      "id": "72eebe9a",
      "metadata": {
        "id": "72eebe9a"
      },
      "outputs": [],
      "source": [
        "# Handling Missing Values in test data\n",
        "\n",
        "## Fill missing AGE and FARE with Median\n",
        "\n",
        "test_data['Age'].fillna(test_data['Age'].median(), inplace=True)\n",
        "test_data['Fare'].fillna(test_data['Fare'].median(), inplace=True)"
      ]
    },
    {
      "cell_type": "code",
      "execution_count": null,
      "id": "d7f59bc9",
      "metadata": {
        "id": "d7f59bc9",
        "outputId": "3fca481b-4ae1-4c55-e913-ec92e8692749"
      },
      "outputs": [
        {
          "data": {
            "text/plain": [
              "Pclass      0\n",
              "Sex         0\n",
              "Age         0\n",
              "SibSp       0\n",
              "Parch       0\n",
              "Fare        0\n",
              "Embarked    0\n",
              "dtype: int64"
            ]
          },
          "execution_count": 18,
          "metadata": {},
          "output_type": "execute_result"
        }
      ],
      "source": [
        "test_data.isnull().sum()"
      ]
    },
    {
      "cell_type": "markdown",
      "id": "21f14c3f",
      "metadata": {
        "id": "21f14c3f"
      },
      "source": [
        "### Creating new features from the ones available in our dataset\n",
        "\n",
        "As part of the feature engineering and before encoding our label variables, we will learn how to create new features based on the existing ones. Let's look how is our dataset so far by taking a look at the first 10 rows."
      ]
    },
    {
      "cell_type": "code",
      "execution_count": null,
      "id": "63943cdd",
      "metadata": {
        "id": "63943cdd"
      },
      "outputs": [],
      "source": [
        "train_data.head(10)"
      ]
    },
    {
      "cell_type": "code",
      "execution_count": null,
      "id": "4b5ee78d",
      "metadata": {
        "id": "4b5ee78d",
        "outputId": "a70095ed-e787-4fe3-f494-2576286a8e76"
      },
      "outputs": [
        {
          "name": "stdout",
          "output_type": "stream",
          "text": [
            "     Survived  Pclass     Sex   Age  SibSp  Parch     Fare Embarked\n",
            "0           0       3    male  22.0      1      0   7.2500        S\n",
            "1           1       1  female  38.0      1      0  71.2833        C\n",
            "2           1       3  female  26.0      0      0   7.9250        S\n",
            "3           1       1  female  35.0      1      0  53.1000        S\n",
            "4           0       3    male  35.0      0      0   8.0500        S\n",
            "..        ...     ...     ...   ...    ...    ...      ...      ...\n",
            "886         0       2    male  27.0      0      0  13.0000        S\n",
            "887         1       1  female  19.0      0      0  30.0000        S\n",
            "888         0       3  female  28.0      1      2  23.4500        S\n",
            "889         1       1    male  26.0      0      0  30.0000        C\n",
            "890         0       3    male  32.0      0      0   7.7500        Q\n",
            "\n",
            "[888 rows x 8 columns]\n",
            "     Survived  Pclass     Sex   Age  SibSp  Parch     Fare Embarked  fam_mbrs\n",
            "0           0       3    male  22.0      1      0   7.2500        S         1\n",
            "1           1       1  female  38.0      1      0  71.2833        C         1\n",
            "2           1       3  female  26.0      0      0   7.9250        S         0\n",
            "3           1       1  female  35.0      1      0  53.1000        S         1\n",
            "4           0       3    male  35.0      0      0   8.0500        S         0\n",
            "..        ...     ...     ...   ...    ...    ...      ...      ...       ...\n",
            "886         0       2    male  27.0      0      0  13.0000        S         0\n",
            "887         1       1  female  19.0      0      0  30.0000        S         0\n",
            "888         0       3  female  28.0      1      2  23.4500        S         3\n",
            "889         1       1    male  26.0      0      0  30.0000        C         0\n",
            "890         0       3    male  32.0      0      0   7.7500        Q         0\n",
            "\n",
            "[888 rows x 9 columns]\n"
          ]
        }
      ],
      "source": [
        "# We will create a new column to show how many family members of each passenger were in the Titanic.\n",
        "# We will calculate it based on the sum of SibSp (siblings and spouse) and Parch  (parents and children)\n",
        "\n",
        "print(train_data)\n",
        "\n",
        "train_data[\"fam_mbrs\"] = train_data[\"SibSp\"] + train_data[\"Parch\"]\n",
        "\n",
        "print(train_data)"
      ]
    },
    {
      "cell_type": "code",
      "execution_count": null,
      "id": "9b5188e1",
      "metadata": {
        "id": "9b5188e1"
      },
      "outputs": [],
      "source": [
        "test_data[\"fam_mbrs\"] = test_data[\"SibSp\"] + test_data[\"Parch\"]"
      ]
    },
    {
      "cell_type": "markdown",
      "id": "91d67faf",
      "metadata": {
        "id": "91d67faf"
      },
      "source": [
        "### FEATURE ENCODING FOR CATEGORICAL VARIABLES"
      ]
    },
    {
      "cell_type": "markdown",
      "id": "f4a8ec89",
      "metadata": {
        "id": "f4a8ec89"
      },
      "source": [
        "Feature encoding is the process of turning categorical data in a dataset into numerical data. It is essential that we perform feature encoding because most machine learning models can only interpret numerical data and not data in text form.\n",
        "\n",
        "To read about the different methods of feature encoding go to following link: https://github.com/4GeeksAcademy/machine-learning-content/blob/master/05-3d-data/feature-encoding-for-categorical-variables.ipynb\n",
        "\n",
        "To add some additional information, here we will use a different and short method on how to apply specific numbers directly to our label features, so we are manually encoding our categorical features, but you are free to use Scikit learn or Pandas."
      ]
    },
    {
      "cell_type": "code",
      "execution_count": null,
      "id": "1279c0aa",
      "metadata": {
        "id": "1279c0aa"
      },
      "outputs": [],
      "source": [
        "#Train data\n",
        "\n",
        "# Encoding the 'Sex' column\n",
        "train_data['Sex'] = train_data['Sex'].apply(lambda x: 1 if x == 'male' else 0)\n",
        "\n",
        "# Encoding the 'Embarked' column\n",
        "train_data['Embarked'] = train_data['Embarked'].map({'S' : 0, 'C': 1, 'Q': 2})"
      ]
    },
    {
      "cell_type": "code",
      "execution_count": null,
      "id": "00d620ba",
      "metadata": {
        "id": "00d620ba"
      },
      "outputs": [],
      "source": [
        "#Test data\n",
        "\n",
        "# Encoding the 'Sex' column\n",
        "test_data['Sex'] = test_data['Sex'].apply(lambda x: 1 if x == 'male' else 0)\n",
        "\n",
        "# Encoding the 'Embarked' column\n",
        "test_data['Embarked'] = test_data['Embarked'].map({'S' : 0, 'C': 1, 'Q': 2})"
      ]
    },
    {
      "cell_type": "code",
      "execution_count": null,
      "id": "8f565d30",
      "metadata": {
        "id": "8f565d30",
        "outputId": "6a462e6b-7836-4d04-a2ad-c0a2d120b59c"
      },
      "outputs": [
        {
          "data": {
            "text/html": [
              "<div>\n",
              "<style scoped>\n",
              "    .dataframe tbody tr th:only-of-type {\n",
              "        vertical-align: middle;\n",
              "    }\n",
              "\n",
              "    .dataframe tbody tr th {\n",
              "        vertical-align: top;\n",
              "    }\n",
              "\n",
              "    .dataframe thead th {\n",
              "        text-align: right;\n",
              "    }\n",
              "</style>\n",
              "<table border=\"1\" class=\"dataframe\">\n",
              "  <thead>\n",
              "    <tr style=\"text-align: right;\">\n",
              "      <th></th>\n",
              "      <th>Survived</th>\n",
              "      <th>Pclass</th>\n",
              "      <th>Sex</th>\n",
              "      <th>Age</th>\n",
              "      <th>SibSp</th>\n",
              "      <th>Parch</th>\n",
              "      <th>Fare</th>\n",
              "      <th>Embarked</th>\n",
              "      <th>fam_mbrs</th>\n",
              "    </tr>\n",
              "  </thead>\n",
              "  <tbody>\n",
              "    <tr>\n",
              "      <th>0</th>\n",
              "      <td>0</td>\n",
              "      <td>3</td>\n",
              "      <td>1</td>\n",
              "      <td>22.0</td>\n",
              "      <td>1</td>\n",
              "      <td>0</td>\n",
              "      <td>7.2500</td>\n",
              "      <td>0</td>\n",
              "      <td>1</td>\n",
              "    </tr>\n",
              "    <tr>\n",
              "      <th>1</th>\n",
              "      <td>1</td>\n",
              "      <td>1</td>\n",
              "      <td>0</td>\n",
              "      <td>38.0</td>\n",
              "      <td>1</td>\n",
              "      <td>0</td>\n",
              "      <td>71.2833</td>\n",
              "      <td>1</td>\n",
              "      <td>1</td>\n",
              "    </tr>\n",
              "    <tr>\n",
              "      <th>2</th>\n",
              "      <td>1</td>\n",
              "      <td>3</td>\n",
              "      <td>0</td>\n",
              "      <td>26.0</td>\n",
              "      <td>0</td>\n",
              "      <td>0</td>\n",
              "      <td>7.9250</td>\n",
              "      <td>0</td>\n",
              "      <td>0</td>\n",
              "    </tr>\n",
              "    <tr>\n",
              "      <th>3</th>\n",
              "      <td>1</td>\n",
              "      <td>1</td>\n",
              "      <td>0</td>\n",
              "      <td>35.0</td>\n",
              "      <td>1</td>\n",
              "      <td>0</td>\n",
              "      <td>53.1000</td>\n",
              "      <td>0</td>\n",
              "      <td>1</td>\n",
              "    </tr>\n",
              "    <tr>\n",
              "      <th>4</th>\n",
              "      <td>0</td>\n",
              "      <td>3</td>\n",
              "      <td>1</td>\n",
              "      <td>35.0</td>\n",
              "      <td>0</td>\n",
              "      <td>0</td>\n",
              "      <td>8.0500</td>\n",
              "      <td>0</td>\n",
              "      <td>0</td>\n",
              "    </tr>\n",
              "  </tbody>\n",
              "</table>\n",
              "</div>"
            ],
            "text/plain": [
              "   Survived  Pclass  Sex   Age  SibSp  Parch     Fare  Embarked  fam_mbrs\n",
              "0         0       3    1  22.0      1      0   7.2500         0         1\n",
              "1         1       1    0  38.0      1      0  71.2833         1         1\n",
              "2         1       3    0  26.0      0      0   7.9250         0         0\n",
              "3         1       1    0  35.0      1      0  53.1000         0         1\n",
              "4         0       3    1  35.0      0      0   8.0500         0         0"
            ]
          },
          "execution_count": 23,
          "metadata": {},
          "output_type": "execute_result"
        }
      ],
      "source": [
        "#Verifying all our features are now numbers\n",
        "\n",
        "train_data.head()"
      ]
    },
    {
      "cell_type": "markdown",
      "id": "1c5a3c76",
      "metadata": {
        "id": "1c5a3c76"
      },
      "source": [
        "### FEATURE SCALING"
      ]
    },
    {
      "cell_type": "markdown",
      "id": "11233ef7",
      "metadata": {
        "id": "11233ef7"
      },
      "source": [
        "So now that we have all our features converted into numbers, are they ready for modeling? It depends if all our features are on the same scale or not. To read what does it mean to have different scales and the methods to standarize them, go to the following link: https://github.com/4GeeksAcademy/machine-learning-content/blob/master/05-3d-data/feature-scaling.ipynb\n",
        "\n",
        "After reading it we decide to implement the StandardScaler, but you are free to find reasons to scale your dataframe in a different way. "
      ]
    },
    {
      "cell_type": "code",
      "execution_count": null,
      "id": "2ce633bd",
      "metadata": {
        "id": "2ce633bd"
      },
      "outputs": [],
      "source": [
        "# import module\n",
        "from sklearn.preprocessing import MinMaxScaler\n",
        "\n",
        "scaler = MinMaxScaler()\n",
        "\n",
        "train_scaler = scaler.fit(train_data[['Age', 'Fare']])\n",
        "train_data[['Age', 'Fare']] = train_scaler.transform(train_data[['Age', 'Fare']])\n",
        "\n",
        "test_scaler = scaler.fit(test_data[['Age', 'Fare']])\n",
        "test_data[['Age', 'Fare']] = test_scaler.transform(test_data[['Age', 'Fare']])"
      ]
    },
    {
      "cell_type": "code",
      "execution_count": null,
      "id": "b916c404",
      "metadata": {
        "id": "b916c404",
        "outputId": "acdd9286-1db0-4a66-c25b-f2fe9417d1c0"
      },
      "outputs": [
        {
          "data": {
            "text/html": [
              "<div>\n",
              "<style scoped>\n",
              "    .dataframe tbody tr th:only-of-type {\n",
              "        vertical-align: middle;\n",
              "    }\n",
              "\n",
              "    .dataframe tbody tr th {\n",
              "        vertical-align: top;\n",
              "    }\n",
              "\n",
              "    .dataframe thead th {\n",
              "        text-align: right;\n",
              "    }\n",
              "</style>\n",
              "<table border=\"1\" class=\"dataframe\">\n",
              "  <thead>\n",
              "    <tr style=\"text-align: right;\">\n",
              "      <th></th>\n",
              "      <th>Survived</th>\n",
              "      <th>Pclass</th>\n",
              "      <th>Sex</th>\n",
              "      <th>Age</th>\n",
              "      <th>SibSp</th>\n",
              "      <th>Parch</th>\n",
              "      <th>Fare</th>\n",
              "      <th>Embarked</th>\n",
              "      <th>fam_mbrs</th>\n",
              "    </tr>\n",
              "  </thead>\n",
              "  <tbody>\n",
              "    <tr>\n",
              "      <th>0</th>\n",
              "      <td>0</td>\n",
              "      <td>3</td>\n",
              "      <td>1</td>\n",
              "      <td>0.271174</td>\n",
              "      <td>1</td>\n",
              "      <td>0</td>\n",
              "      <td>0.027567</td>\n",
              "      <td>0</td>\n",
              "      <td>1</td>\n",
              "    </tr>\n",
              "    <tr>\n",
              "      <th>1</th>\n",
              "      <td>1</td>\n",
              "      <td>1</td>\n",
              "      <td>0</td>\n",
              "      <td>0.472229</td>\n",
              "      <td>1</td>\n",
              "      <td>0</td>\n",
              "      <td>0.271039</td>\n",
              "      <td>1</td>\n",
              "      <td>1</td>\n",
              "    </tr>\n",
              "    <tr>\n",
              "      <th>2</th>\n",
              "      <td>1</td>\n",
              "      <td>3</td>\n",
              "      <td>0</td>\n",
              "      <td>0.321438</td>\n",
              "      <td>0</td>\n",
              "      <td>0</td>\n",
              "      <td>0.030133</td>\n",
              "      <td>0</td>\n",
              "      <td>0</td>\n",
              "    </tr>\n",
              "    <tr>\n",
              "      <th>3</th>\n",
              "      <td>1</td>\n",
              "      <td>1</td>\n",
              "      <td>0</td>\n",
              "      <td>0.434531</td>\n",
              "      <td>1</td>\n",
              "      <td>0</td>\n",
              "      <td>0.201901</td>\n",
              "      <td>0</td>\n",
              "      <td>1</td>\n",
              "    </tr>\n",
              "    <tr>\n",
              "      <th>4</th>\n",
              "      <td>0</td>\n",
              "      <td>3</td>\n",
              "      <td>1</td>\n",
              "      <td>0.434531</td>\n",
              "      <td>0</td>\n",
              "      <td>0</td>\n",
              "      <td>0.030608</td>\n",
              "      <td>0</td>\n",
              "      <td>0</td>\n",
              "    </tr>\n",
              "  </tbody>\n",
              "</table>\n",
              "</div>"
            ],
            "text/plain": [
              "   Survived  Pclass  Sex       Age  SibSp  Parch      Fare  Embarked  fam_mbrs\n",
              "0         0       3    1  0.271174      1      0  0.027567         0         1\n",
              "1         1       1    0  0.472229      1      0  0.271039         1         1\n",
              "2         1       3    0  0.321438      0      0  0.030133         0         0\n",
              "3         1       1    0  0.434531      1      0  0.201901         0         1\n",
              "4         0       3    1  0.434531      0      0  0.030608         0         0"
            ]
          },
          "execution_count": 13,
          "metadata": {},
          "output_type": "execute_result"
        }
      ],
      "source": [
        "#Verifying\n",
        "\n",
        "train_data.head()"
      ]
    },
    {
      "cell_type": "code",
      "execution_count": null,
      "id": "514aad27",
      "metadata": {
        "id": "514aad27",
        "outputId": "ac46bb56-a3b0-4661-ac86-9d70df82047d"
      },
      "outputs": [
        {
          "data": {
            "text/html": [
              "<div>\n",
              "<style scoped>\n",
              "    .dataframe tbody tr th:only-of-type {\n",
              "        vertical-align: middle;\n",
              "    }\n",
              "\n",
              "    .dataframe tbody tr th {\n",
              "        vertical-align: top;\n",
              "    }\n",
              "\n",
              "    .dataframe thead th {\n",
              "        text-align: right;\n",
              "    }\n",
              "</style>\n",
              "<table border=\"1\" class=\"dataframe\">\n",
              "  <thead>\n",
              "    <tr style=\"text-align: right;\">\n",
              "      <th></th>\n",
              "      <th>Pclass</th>\n",
              "      <th>Sex</th>\n",
              "      <th>Age</th>\n",
              "      <th>SibSp</th>\n",
              "      <th>Parch</th>\n",
              "      <th>Fare</th>\n",
              "      <th>Embarked</th>\n",
              "      <th>fam_mbrs</th>\n",
              "    </tr>\n",
              "  </thead>\n",
              "  <tbody>\n",
              "    <tr>\n",
              "      <th>0</th>\n",
              "      <td>3</td>\n",
              "      <td>1</td>\n",
              "      <td>0.452723</td>\n",
              "      <td>0</td>\n",
              "      <td>0</td>\n",
              "      <td>0.015282</td>\n",
              "      <td>2</td>\n",
              "      <td>0</td>\n",
              "    </tr>\n",
              "    <tr>\n",
              "      <th>1</th>\n",
              "      <td>3</td>\n",
              "      <td>0</td>\n",
              "      <td>0.617566</td>\n",
              "      <td>1</td>\n",
              "      <td>0</td>\n",
              "      <td>0.013663</td>\n",
              "      <td>0</td>\n",
              "      <td>1</td>\n",
              "    </tr>\n",
              "    <tr>\n",
              "      <th>2</th>\n",
              "      <td>2</td>\n",
              "      <td>1</td>\n",
              "      <td>0.815377</td>\n",
              "      <td>0</td>\n",
              "      <td>0</td>\n",
              "      <td>0.018909</td>\n",
              "      <td>2</td>\n",
              "      <td>0</td>\n",
              "    </tr>\n",
              "    <tr>\n",
              "      <th>3</th>\n",
              "      <td>3</td>\n",
              "      <td>1</td>\n",
              "      <td>0.353818</td>\n",
              "      <td>0</td>\n",
              "      <td>0</td>\n",
              "      <td>0.016908</td>\n",
              "      <td>0</td>\n",
              "      <td>0</td>\n",
              "    </tr>\n",
              "    <tr>\n",
              "      <th>4</th>\n",
              "      <td>3</td>\n",
              "      <td>0</td>\n",
              "      <td>0.287881</td>\n",
              "      <td>1</td>\n",
              "      <td>1</td>\n",
              "      <td>0.023984</td>\n",
              "      <td>0</td>\n",
              "      <td>2</td>\n",
              "    </tr>\n",
              "  </tbody>\n",
              "</table>\n",
              "</div>"
            ],
            "text/plain": [
              "   Pclass  Sex       Age  SibSp  Parch      Fare  Embarked  fam_mbrs\n",
              "0       3    1  0.452723      0      0  0.015282         2         0\n",
              "1       3    0  0.617566      1      0  0.013663         0         1\n",
              "2       2    1  0.815377      0      0  0.018909         2         0\n",
              "3       3    1  0.353818      0      0  0.016908         0         0\n",
              "4       3    0  0.287881      1      1  0.023984         0         2"
            ]
          },
          "execution_count": 29,
          "metadata": {},
          "output_type": "execute_result"
        }
      ],
      "source": [
        "#Verifying\n",
        "\n",
        "test_data.head()"
      ]
    },
    {
      "cell_type": "markdown",
      "id": "945e66e6",
      "metadata": {
        "id": "945e66e6"
      },
      "source": [
        "**End of Day 2!**\n",
        "\n",
        "Now let's clean our project dataset and leave it almost ready for modeling!"
      ]
    },
    {
      "cell_type": "markdown",
      "id": "405c0f0f",
      "metadata": {
        "id": "405c0f0f"
      },
      "source": [
        "# Day 3: FEATURE SELECTION"
      ]
    },
    {
      "cell_type": "markdown",
      "id": "3410c95f",
      "metadata": {
        "id": "3410c95f"
      },
      "source": [
        "Go to the following link https://github.com/4GeeksAcademy/machine-learning-content/blob/master/05-3d-data/feature-selection.ipynb to read the information about when is it neccesary to make feature selection and what are the existing methods to do it."
      ]
    },
    {
      "cell_type": "markdown",
      "id": "c5fd03d0",
      "metadata": {
        "id": "c5fd03d0"
      },
      "source": [
        "How to retrieve the 5 right informative features in the Titanic dataset?"
      ]
    },
    {
      "cell_type": "code",
      "execution_count": null,
      "id": "a2bd3c35",
      "metadata": {
        "id": "a2bd3c35",
        "outputId": "4ff7f3a0-d96d-44f7-9af4-eac7834db3b0"
      },
      "outputs": [
        {
          "data": {
            "text/html": [
              "<div>\n",
              "<style scoped>\n",
              "    .dataframe tbody tr th:only-of-type {\n",
              "        vertical-align: middle;\n",
              "    }\n",
              "\n",
              "    .dataframe tbody tr th {\n",
              "        vertical-align: top;\n",
              "    }\n",
              "\n",
              "    .dataframe thead th {\n",
              "        text-align: right;\n",
              "    }\n",
              "</style>\n",
              "<table border=\"1\" class=\"dataframe\">\n",
              "  <thead>\n",
              "    <tr style=\"text-align: right;\">\n",
              "      <th></th>\n",
              "      <th>Survived</th>\n",
              "      <th>Pclass</th>\n",
              "      <th>Sex</th>\n",
              "      <th>Age</th>\n",
              "      <th>SibSp</th>\n",
              "      <th>Parch</th>\n",
              "      <th>Fare</th>\n",
              "      <th>Embarked</th>\n",
              "      <th>fam_mbrs</th>\n",
              "    </tr>\n",
              "  </thead>\n",
              "  <tbody>\n",
              "    <tr>\n",
              "      <th>0</th>\n",
              "      <td>0</td>\n",
              "      <td>3</td>\n",
              "      <td>1</td>\n",
              "      <td>-0.563437</td>\n",
              "      <td>1</td>\n",
              "      <td>0</td>\n",
              "      <td>-0.566959</td>\n",
              "      <td>0</td>\n",
              "      <td>1</td>\n",
              "    </tr>\n",
              "    <tr>\n",
              "      <th>1</th>\n",
              "      <td>1</td>\n",
              "      <td>1</td>\n",
              "      <td>0</td>\n",
              "      <td>0.664528</td>\n",
              "      <td>1</td>\n",
              "      <td>0</td>\n",
              "      <td>0.989016</td>\n",
              "      <td>1</td>\n",
              "      <td>1</td>\n",
              "    </tr>\n",
              "    <tr>\n",
              "      <th>2</th>\n",
              "      <td>1</td>\n",
              "      <td>3</td>\n",
              "      <td>0</td>\n",
              "      <td>-0.256446</td>\n",
              "      <td>0</td>\n",
              "      <td>0</td>\n",
              "      <td>-0.550557</td>\n",
              "      <td>0</td>\n",
              "      <td>0</td>\n",
              "    </tr>\n",
              "    <tr>\n",
              "      <th>3</th>\n",
              "      <td>1</td>\n",
              "      <td>1</td>\n",
              "      <td>0</td>\n",
              "      <td>0.434285</td>\n",
              "      <td>1</td>\n",
              "      <td>0</td>\n",
              "      <td>0.547171</td>\n",
              "      <td>0</td>\n",
              "      <td>1</td>\n",
              "    </tr>\n",
              "    <tr>\n",
              "      <th>4</th>\n",
              "      <td>0</td>\n",
              "      <td>3</td>\n",
              "      <td>1</td>\n",
              "      <td>0.434285</td>\n",
              "      <td>0</td>\n",
              "      <td>0</td>\n",
              "      <td>-0.547519</td>\n",
              "      <td>0</td>\n",
              "      <td>0</td>\n",
              "    </tr>\n",
              "  </tbody>\n",
              "</table>\n",
              "</div>"
            ],
            "text/plain": [
              "   Survived  Pclass  Sex       Age  SibSp  Parch      Fare  Embarked  fam_mbrs\n",
              "0         0       3    1 -0.563437      1      0 -0.566959         0         1\n",
              "1         1       1    0  0.664528      1      0  0.989016         1         1\n",
              "2         1       3    0 -0.256446      0      0 -0.550557         0         0\n",
              "3         1       1    0  0.434285      1      0  0.547171         0         1\n",
              "4         0       3    1  0.434285      0      0 -0.547519         0         0"
            ]
          },
          "execution_count": 24,
          "metadata": {},
          "output_type": "execute_result"
        }
      ],
      "source": [
        "train_data.head()"
      ]
    },
    {
      "cell_type": "code",
      "execution_count": null,
      "id": "d7176c8f",
      "metadata": {
        "id": "d7176c8f"
      },
      "outputs": [],
      "source": [
        "#Separate features from target\n",
        "\n",
        "X = train_data.drop(\"Survived\",axis=1)\n",
        "y = train_data[\"Survived\"]"
      ]
    },
    {
      "cell_type": "code",
      "execution_count": null,
      "id": "5321b1eb",
      "metadata": {
        "id": "5321b1eb",
        "outputId": "eee7eed6-94ae-42d1-f181-afb91c53b3d5"
      },
      "outputs": [
        {
          "data": {
            "text/html": [
              "<div>\n",
              "<style scoped>\n",
              "    .dataframe tbody tr th:only-of-type {\n",
              "        vertical-align: middle;\n",
              "    }\n",
              "\n",
              "    .dataframe tbody tr th {\n",
              "        vertical-align: top;\n",
              "    }\n",
              "\n",
              "    .dataframe thead th {\n",
              "        text-align: right;\n",
              "    }\n",
              "</style>\n",
              "<table border=\"1\" class=\"dataframe\">\n",
              "  <thead>\n",
              "    <tr style=\"text-align: right;\">\n",
              "      <th></th>\n",
              "      <th>Pclass</th>\n",
              "      <th>Sex</th>\n",
              "      <th>Parch</th>\n",
              "      <th>Fare</th>\n",
              "      <th>Embarked</th>\n",
              "    </tr>\n",
              "  </thead>\n",
              "  <tbody>\n",
              "    <tr>\n",
              "      <th>0</th>\n",
              "      <td>3.0</td>\n",
              "      <td>1.0</td>\n",
              "      <td>0.0</td>\n",
              "      <td>0.027567</td>\n",
              "      <td>0.0</td>\n",
              "    </tr>\n",
              "    <tr>\n",
              "      <th>1</th>\n",
              "      <td>1.0</td>\n",
              "      <td>0.0</td>\n",
              "      <td>0.0</td>\n",
              "      <td>0.271039</td>\n",
              "      <td>1.0</td>\n",
              "    </tr>\n",
              "    <tr>\n",
              "      <th>2</th>\n",
              "      <td>3.0</td>\n",
              "      <td>0.0</td>\n",
              "      <td>0.0</td>\n",
              "      <td>0.030133</td>\n",
              "      <td>0.0</td>\n",
              "    </tr>\n",
              "    <tr>\n",
              "      <th>3</th>\n",
              "      <td>1.0</td>\n",
              "      <td>0.0</td>\n",
              "      <td>0.0</td>\n",
              "      <td>0.201901</td>\n",
              "      <td>0.0</td>\n",
              "    </tr>\n",
              "    <tr>\n",
              "      <th>4</th>\n",
              "      <td>3.0</td>\n",
              "      <td>1.0</td>\n",
              "      <td>0.0</td>\n",
              "      <td>0.030608</td>\n",
              "      <td>0.0</td>\n",
              "    </tr>\n",
              "  </tbody>\n",
              "</table>\n",
              "</div>"
            ],
            "text/plain": [
              "   Pclass  Sex  Parch      Fare  Embarked\n",
              "0     3.0  1.0    0.0  0.027567       0.0\n",
              "1     1.0  0.0    0.0  0.271039       1.0\n",
              "2     3.0  0.0    0.0  0.030133       0.0\n",
              "3     1.0  0.0    0.0  0.201901       0.0\n",
              "4     3.0  1.0    0.0  0.030608       0.0"
            ]
          },
          "execution_count": 15,
          "metadata": {},
          "output_type": "execute_result"
        }
      ],
      "source": [
        "from sklearn.feature_selection import SelectKBest\n",
        "from sklearn.feature_selection import chi2\n",
        "\n",
        "mdlsel = SelectKBest(chi2, k=5) \n",
        "mdlsel.fit(X,y)\n",
        "ix = mdlsel.get_support() \n",
        "data2 = pd.DataFrame(mdlsel.transform(X), columns = X.columns.values[ix])\n",
        "\n",
        "data2.head(n=5)"
      ]
    },
    {
      "cell_type": "markdown",
      "id": "cea139cf",
      "metadata": {
        "id": "cea139cf"
      },
      "source": [
        "In this case, using the Chi square feature selection, the most important features are 'Pclass', 'Sex','Parch','Fare' and 'Embarked'.\n",
        "\n",
        "This is just to show you how to apply one of the feature selection methods in the Titanic dataset in order to reduce the number of features before modeling, however, Titanic is a short dataset so you should evaluate if doing feature selection or not. \n",
        "\n",
        "There are algorithms that include feature selection in their modeling process( for example Lasso modeling).\n",
        "\n",
        "This process is very related to the modeling process, because, in order to verify if we are doing a good feature selection, sometimes is necessary to do some modeling with different feature groups to find out the accuracy achieved.\n",
        "\n",
        "Now go ahead and analyse your project dataframe! \n",
        "\n"
      ]
    },
    {
      "cell_type": "markdown",
      "id": "cf25d93b",
      "metadata": {
        "id": "cf25d93b"
      },
      "source": [
        "Source:\n",
        "\n",
        "https://www.dataquest.io/blog/pandas-python-tutorial/\n",
        "\n",
        "https://www.kdnuggets.com/2020/07/exploratory-data-analysis-steroids.html\n",
        "\n",
        "https://www.dataquest.io/blog/pandas-tutorial-python-2/\n",
        "\n",
        "https://medium.com/analytics-vidhya/introduction-to-exploratory-data-analysis-for-image-text-based-data-1179e194df3f#:~:text=Exploratory%20data%20analysis%20is%20the%20first%20step%20towards,the%20closer%20you%20get%20to%20solving%20the%20problem.\n",
        "\n",
        "https://medium.com/epfl-extension-school/advanced-exploratory-data-analysis-eda-with-python-536fa83c578a"
      ]
    }
  ],
  "metadata": {
    "kernelspec": {
      "display_name": "Python 3.10.1 64-bit",
      "language": "python",
      "name": "python3"
    },
    "language_info": {
      "codemirror_mode": {
        "name": "ipython",
        "version": 3
      },
      "file_extension": ".py",
      "mimetype": "text/x-python",
      "name": "python",
      "nbconvert_exporter": "python",
      "pygments_lexer": "ipython3",
      "version": "3.10.1"
    },
    "vscode": {
      "interpreter": {
        "hash": "0f2f6c680cf484319d387fabac80ca4ff4fc33965036e02100b3fe02600f1423"
      }
    },
    "colab": {
      "name": "exploratory-data-analysis.ipynb",
      "provenance": [],
      "include_colab_link": true
    }
  },
  "nbformat": 4,
  "nbformat_minor": 5
}